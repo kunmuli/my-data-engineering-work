{
 "cells": [
  {
   "cell_type": "markdown",
   "metadata": {},
   "source": [
    "# Module 4 Homework \n",
    "\n",
    "In this homework, we'll use the models developed during the week 4 videos and enhance the already presented dbt project using the already loaded Taxi data for fhv vehicles for year 2019 in our DWH.\n",
    "\n",
    "This means that in this homework we use the following data [Datasets list](https://github.com/DataTalksClub/nyc-tlc-data/)\n",
    "* Yellow taxi data - Years 2019 and 2020\n",
    "* Green taxi data - Years 2019 and 2020 \n",
    "* fhv data - Year 2019. \n",
    "\n",
    "We will use the data loaded for:\n",
    "\n",
    "* Building a source table: `stg_fhv_tripdata`\n",
    "* Building a fact table: `fact_fhv_trips`\n",
    "* Create a dashboard \n",
    "\n",
    "If you don't have access to GCP, you can do this locally using the ingested data from your Postgres database\n",
    "instead. If you have access to GCP, you don't need to do it for local Postgres - only if you want to.\n",
    "\n",
    "> **Note**: if your answer doesn't match exactly, select the closest option "
   ]
  },
  {
   "cell_type": "markdown",
   "metadata": {},
   "source": []
  },
  {
   "cell_type": "markdown",
   "metadata": {},
   "source": [
    "## Question 1: \n",
    "### Answer 3: `It applies a limit 100 only to our staging models`\n",
    "\n",
    "**What happens when we execute dbt build --vars '{'is_test_run':'true'}'**\n",
    "You'll need to have completed the [\"Build the first dbt models\"](https://www.youtube.com/watch?v=UVI30Vxzd6c) video. \n",
    "- It's the same as running *dbt build*\n",
    "- It applies a _limit 100_ to all of our models\n",
    "- It applies a _limit 100_ only to our staging models\n",
    "- Nothing"
   ]
  },
  {
   "cell_type": "markdown",
   "metadata": {},
   "source": [
    "## Question 2: \n",
    "### Answer 4: `The code from a development branch requesting a merge to main`\n",
    "\n",
    "**What is the code that our CI job will run?**  \n",
    "\n",
    "- The code that has been merged into the main branch\n",
    "- The code that is behind the object on the dbt_cloud_pr_ schema\n",
    "- The code from any development branch that has been opened based on main\n",
    "- The code from a development branch requesting a merge to main\n",
    "\n"
   ]
  },
  {
   "cell_type": "markdown",
   "metadata": {},
   "source": [
    "## Question 3: \n",
    "### Answer 3: `22998722`\n",
    "\n",
    "**What is the count of records in the model fact_fhv_trips after running all dependencies with the test run variable disabled (:false)?**  \n",
    "Create a staging model for the fhv data, similar to the ones made for yellow and green data. Add an additional filter for keeping only records with pickup time in year 2019.\n",
    "Do not add a deduplication step. Run this models without limits (is_test_run: false).\n",
    "\n",
    "Create a core model similar to fact trips, but selecting from stg_fhv_tripdata and joining with dim_zones.\n",
    "Similar to what we've done in fact_trips, keep only records with known pickup and dropoff locations entries for pickup and dropoff locations. \n",
    "Run the dbt model without limits (is_test_run: false).\n",
    "\n",
    "- 12998722\n",
    "- 22998722\n",
    "- 32998722\n",
    "- 42998722\n",
    "  \n",
    "![hmwk4-qn3.png](../../../images/hmwk4-qn3.png)"
   ]
  },
  {
   "cell_type": "code",
   "execution_count": null,
   "metadata": {
    "vscode": {
     "languageId": "sql"
    }
   },
   "outputs": [],
   "source": [
    "SELECT COUNT(*) FROM `terraform-demo-413613.dbt_kunmuli.fact_fhv_trips`\n",
    "WHERE EXTRACT(YEAR FROM pickup_datetime) = 2019;"
   ]
  },
  {
   "cell_type": "markdown",
   "metadata": {},
   "source": [
    "22998722"
   ]
  },
  {
   "cell_type": "markdown",
   "metadata": {},
   "source": [
    "## Question 4: \n",
    "### Answer 4: `Yellow`\n",
    "\n",
    "**What is the service that had the most rides during the month of July 2019 month with the biggest amount of rides after building a tile for the fact_fhv_trips table?**\n",
    "\n",
    "Create a dashboard with some tiles that you find interesting to explore the data. One tile should show the amount of trips per month, as done in the videos for fact_trips, including the fact_fhv_trips data.\n",
    "\n",
    "- FHV\n",
    "- Green\n",
    "- Yellow\n",
    "- FHV and Green\n",
    "\n",
    "![hmwk4-qn4.png](../../../images/hmwk4-qn4.png)\n",
    "\n"
   ]
  },
  {
   "cell_type": "code",
   "execution_count": null,
   "metadata": {
    "vscode": {
     "languageId": "sql"
    }
   },
   "outputs": [],
   "source": [
    "SELECT \n",
    "  EXTRACT(YEAR FROM trip_pickup_month) AS pickup_year,\n",
    "  EXTRACT(MONTH FROM trip_pickup_month) AS pickup_month,\n",
    "  EXTRACT(MONTH FROM trip_dropoff_month) AS dropoff_month,\n",
    "  service_type,\n",
    "  SUM(total_monthly_trips) as total_monthly_trips\n",
    "FROM `terraform-demo-413613.dbt_kunmuli.dm_monthly_zone_trips`\n",
    "WHERE \n",
    "  EXTRACT(YEAR FROM trip_pickup_month) = 2019 \n",
    "  AND EXTRACT(MONTH FROM trip_pickup_month) = 7 \n",
    "  -- AND EXTRACT(MONTH FROM trip_dropoff_month) = 7\n",
    "GROUP BY \n",
    "  pickup_year, pickup_month, dropoff_month, service_type\n",
    "ORDER BY \n",
    "  total_monthly_trips DESC;"
   ]
  },
  {
   "cell_type": "markdown",
   "metadata": {},
   "source": [
    "| Row  | pickup_year | pickup_month | dropoff_month | service_type | total_monthly_trips |\n",
    "| :--- | :---:       | :---:        | :---:         | :---:        | ---:                |\n",
    "| 1    | 2019        | 7            | 7             | Yellow       | 3247451             |\n",
    "| 1    | 2019        | 7            | 7             | Green        | 415252              |\n",
    "| 1    | 2019        | 7            | 7             | Fhv          | 290578              |\n"
   ]
  },
  {
   "cell_type": "code",
   "execution_count": null,
   "metadata": {
    "vscode": {
     "languageId": "sql"
    }
   },
   "outputs": [],
   "source": [
    "SELECT \n",
    "  EXTRACT(YEAR FROM trip_pickup_month) AS pickup_year,\n",
    "  EXTRACT(MONTH FROM trip_pickup_month) AS pickup_month,\n",
    "  EXTRACT(MONTH FROM trip_dropoff_month) AS dropoff_month,\n",
    "  service_type,\n",
    "  SUM(total_monthly_trips) as total_monthly_trips\n",
    "FROM `terraform-demo-413613.dbt_kunmuli.dm_monthly_zone_trips`\n",
    "WHERE \n",
    "  EXTRACT(YEAR FROM trip_pickup_month) = 2019 \n",
    "  AND EXTRACT(MONTH FROM trip_pickup_month) = 7 \n",
    "  -- AND EXTRACT(MONTH FROM trip_dropoff_month) = 7\n",
    "GROUP BY \n",
    "  pickup_year, pickup_month, dropoff_month, service_type\n",
    "ORDER BY \n",
    "  total_monthly_trips DESC;"
   ]
  },
  {
   "cell_type": "markdown",
   "metadata": {},
   "source": [
    "| Row  | pickup_year | pickup_month | dropoff_month | service_type | total_monthly_trips |\n",
    "| :--- | :---:       | :---:        | :---:         | :---:        | ---:                |\n",
    "| 1    | 2019        | 7            | 7             | Yellow       | 3247451             |\n",
    "| 2    | 2019        | 7            | 7             | Green        | 415252              |\n",
    "| 3    | 2019        | 7            | 7             | Fhv          | 290578              |\n",
    "| 4    | 2019        | 7            | 8             | Yellow       | 1146                |\n",
    "| 5    | 2019        | 7            | 8             | Green        | 135                 |\n",
    "| 6    | 2019        | 7            | 8             | Fhv          | 102                 |\n",
    "| 7    | 2019        | 7            | 6             | Green        | 1                   |\n"
   ]
  }
 ],
 "metadata": {
  "kernelspec": {
   "display_name": "Python 3 (ipykernel)",
   "language": "python",
   "name": "python3"
  },
  "language_info": {
   "codemirror_mode": {
    "name": "ipython",
    "version": 3
   },
   "file_extension": ".py",
   "mimetype": "text/x-python",
   "name": "python",
   "nbconvert_exporter": "python",
   "pygments_lexer": "ipython3",
   "version": "3.9.18"
  }
 },
 "nbformat": 4,
 "nbformat_minor": 4
}
