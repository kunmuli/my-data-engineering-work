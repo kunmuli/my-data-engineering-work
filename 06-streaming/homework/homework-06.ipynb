{
 "cells": [
  {
   "cell_type": "markdown",
   "metadata": {},
   "source": [
    "## Module 6 Homework \n",
    "\n",
    "In this homework, we're going to extend Module 5 Homework and learn about streaming with PySpark.\n",
    "\n",
    "Instead of Kafka, we will use Red Panda, which is a drop-in\n",
    "replacement for Kafka. \n",
    "\n",
    "Ensure you have the following set up (if you had done the previous homework and the module):\n",
    "\n",
    "- Docker (see [module 1](https://github.com/DataTalksClub/data-engineering-zoomcamp/tree/main/01-docker-terraform))\n",
    "- PySpark (see [module 5](https://github.com/DataTalksClub/data-engineering-zoomcamp/tree/main/05-batch/setup))\n",
    "\n",
    "For this homework we will be using the files from Module 5 homework:\n",
    "\n",
    "- Green 2019-10 data from [here](https://github.com/DataTalksClub/nyc-tlc-data/releases/download/green/green_tripdata_2019-10.csv.gz)\n",
    "\n",
    "\n",
    "\n",
    "## Start Red Panda\n",
    "\n",
    "Let's start redpanda in a docker container. \n",
    "\n",
    "There's a `docker-compose.yml` file in the homework folder (taken from [here](https://github.com/redpanda-data-blog/2023-python-gsg/blob/main/docker-compose.yml))\n",
    "\n",
    "Copy this file to your homework directory and run\n",
    "\n",
    "```bash\n",
    "docker-compose up\n",
    "```\n",
    "\n",
    "(Add `-d` if you want to run in detached mode)\n"
   ]
  },
  {
   "cell_type": "markdown",
   "metadata": {},
   "source": [
    "## Question 1: Redpanda version\n",
    "\n",
    "Now let's find out the version of redpandas. \n",
    "\n",
    "For that, check the output of the command `rpk help` _inside the container_. The name of the container is `redpanda-1`.\n",
    "\n",
    "Find out what you need to execute based on the `help` output.\n",
    "\n",
    "\n",
    "> [!TIP]\n",
    "> Setup an alias so don't have to run commands in container with \"docker exec\"\n",
    "> \n",
    "> Command: \n",
    "> \n",
    "> ```bash\n",
    "> alias rpk=\"docker exec -ti redpanda-1 rpk\"\n",
    "> ```\n",
    ">\n",
    ">```bash\n",
    "> rpk version  \n",
    ">\n",
    "> v22.3.5 (rev 28b2443)\n",
    "> ```\n",
    "\n",
    "\n",
    "What's the version, based on the output of the command you executed? (copy the entire version)\n",
    "\n",
    "### Answer 1: `v22.3.5 (rev 28b2443)`"
   ]
  },
  {
   "cell_type": "markdown",
   "metadata": {},
   "source": [
    "## Question 2. Creating a topic\n",
    "\n",
    "Before we can send data to the redpanda server, weneed to create a topic. We do it also with the `rpk` command we used previously for figuring out the version of redpandas.\n",
    "\n",
    "Read the output of `help` and based on it, create a topic with name `test-topic` \n",
    "\n",
    "What's the output of the command for creating a topic?\n",
    "\n",
    "### Answer 2: \n",
    "```bash\n",
    "TOPIC       STATUS\n",
    "test-topic  OK\n",
    "```\n",
    "\n",
    "> [!TIP]\n",
    "> \n",
    "> Command: \n",
    "> \n",
    "> ```bash\n",
    "> rpk topic create test-topic\n",
    ">\n",
    "> TOPIC       STATUS\n",
    "> test-topic  OK\n",
    "> ```"
   ]
  },
  {
   "cell_type": "markdown",
   "metadata": {},
   "source": [
    "## Question 3. Connecting to the Kafka server\n",
    "\n",
    "\n",
    "\n",
    "We need to make sure we can connect to the server, so later we can send some data to its topics\n",
    "\n",
    "First, let's install the kafka connector (up to you if you want to have a separate virtual environment for that)\n",
    "\n",
    "```bash\n",
    "pip install kafka-python\n",
    "```\n",
    "\n",
    "You can start a jupyter notebook in your solution folder or create a script\n",
    "\n",
    "Let's try to connect to our server:"
   ]
  },
  {
   "cell_type": "code",
   "execution_count": 15,
   "metadata": {},
   "outputs": [
    {
     "data": {
      "text/plain": [
       "True"
      ]
     },
     "execution_count": 15,
     "metadata": {},
     "output_type": "execute_result"
    }
   ],
   "source": [
    "import json\n",
    "import time \n",
    "\n",
    "from kafka import KafkaProducer\n",
    "\n",
    "def json_serializer(data):\n",
    "    return json.dumps(data).encode('utf-8')\n",
    "\n",
    "server = \"localhost:9092\"\n",
    "\n",
    "producer = KafkaProducer(\n",
    "    bootstrap_servers=[server],\n",
    "    value_serializer=json_serializer\n",
    ")\n",
    "\n",
    "producer.bootstrap_connected()"
   ]
  },
  {
   "cell_type": "markdown",
   "metadata": {},
   "source": [
    "\n",
    "Provided that you can connect to the server, what's the output of the last command?\n",
    "\n",
    "### Answer 3: `True`"
   ]
  },
  {
   "cell_type": "markdown",
   "metadata": {},
   "source": [
    "## Question 4. Sending data to the stream\n",
    "\n",
    "Now we're ready to send some test data:\n",
    "\n",
    "(Don't remove `time.sleep` when answering this question)"
   ]
  },
  {
   "cell_type": "code",
   "execution_count": 16,
   "metadata": {},
   "outputs": [
    {
     "name": "stdout",
     "output_type": "stream",
     "text": [
      "Sent 'number': 0\n",
      "Sending 1 messages took 0.00 seconds\n",
      "Sent 'number': 1\n",
      "Sending 2 messages took 0.05 seconds\n",
      "Sent 'number': 2\n",
      "Sending 3 messages took 0.10 seconds\n",
      "Sent 'number': 3\n",
      "Sending 4 messages took 0.15 seconds\n",
      "Sent 'number': 4\n",
      "Sending 5 messages took 0.20 seconds\n",
      "Sent 'number': 5\n",
      "Sending 6 messages took 0.25 seconds\n",
      "Sent 'number': 6\n",
      "Sending 7 messages took 0.30 seconds\n",
      "Sent 'number': 7\n",
      "Sending 8 messages took 0.35 seconds\n",
      "Sent 'number': 8\n",
      "Sending 9 messages took 0.40 seconds\n",
      "Sent 'number': 9\n",
      "Sending 10 messages took 0.45 seconds\n",
      "Flushing took 0.00 seconds\n",
      "this cell block took 0.51 seconds\n"
     ]
    }
   ],
   "source": [
    "t0 = time.time()\n",
    "\n",
    "topic_name = 'test-topic'\n",
    "\n",
    "for i in range(10):\n",
    "    prev_loop = time.time()\n",
    "    message = {'number': i}\n",
    "    producer.send(topic_name, value=message)\n",
    "    cur_loop = prev_loop\n",
    "    # print(f'loop: {i} took {(cur_loop - prev_loop - t0):.2f} seconds')\n",
    "    print(f\"Sent 'number': {i}\")\n",
    "    print(f'Sending {i+1} messages took {(time.time() - t0):.2f} seconds')\n",
    "    time.sleep(0.05)\n",
    "    if i==9:\n",
    "        f0 = time.time()\n",
    "    # print(f0)\n",
    "\n",
    "producer.flush()\n",
    "# print(f0)\n",
    "f1 = time.time()\n",
    "print(f'Flushing took {(f1 - f0):.2f} seconds')\n",
    "\n",
    "t1 = time.time()\n",
    "print(f'this cell block took {(t1 - t0):.2f} seconds')"
   ]
  },
  {
   "cell_type": "markdown",
   "metadata": {},
   "source": [
    "How much time did it take? Where did it spend most of the time?\n",
    "\n",
    "* Sending the messages\n",
    "* Flushing\n",
    "* Both took approximately the same amount of time\n",
    "  \n",
    "### Answer 4: `0.50 secs, Sending the messages`"
   ]
  },
  {
   "cell_type": "markdown",
   "metadata": {},
   "source": [
    "## Reading data with `rpk`\n",
    "\n",
    "You can see the messages that you send to the topic\n",
    "with `rpk`:\n",
    "\n",
    "> [!TIP]\n",
    "> \n",
    "> Command: \n",
    "> \n",
    "> ```bash\n",
    "> rpk topic consume test-topic\n",
    "> ```\n",
    "\n",
    "Run the command above and send the messages one more time to see them\n"
   ]
  },
  {
   "cell_type": "markdown",
   "metadata": {},
   "source": [
    "---\n",
    "\n",
    "## Qn 5 Create Producer to Populate topics\n",
    "## Sending the taxi data\n",
    "\n",
    "Now let's send our actual data:\n",
    "\n",
    "* Read the green csv.gz file\n",
    "* We will only need these columns:\n",
    "  * `'lpep_pickup_datetime',`\n",
    "  * `'lpep_dropoff_datetime',`\n",
    "  * `'PULocationID',`\n",
    "  * `'DOLocationID',`\n",
    "  * `'passenger_count',`\n",
    "  * `'trip_distance',`\n",
    "  * `'tip_amount'`\n",
    "\n"
   ]
  },
  {
   "cell_type": "markdown",
   "metadata": {},
   "source": [
    "### Declare column names"
   ]
  },
  {
   "cell_type": "code",
   "execution_count": 17,
   "metadata": {
    "notebookRunGroups": {
     "groupValue": ""
    }
   },
   "outputs": [],
   "source": [
    "column_names = [\n",
    "        'lpep_pickup_datetime', \n",
    "        'lpep_dropoff_datetime', \n",
    "        'PULocationID',\n",
    "        'DOLocationID',\n",
    "        'passenger_count',\n",
    "        'trip_distance',\n",
    "        'tip_amount']"
   ]
  },
  {
   "cell_type": "markdown",
   "metadata": {},
   "source": [
    "### Import packages"
   ]
  },
  {
   "cell_type": "code",
   "execution_count": 18,
   "metadata": {
    "notebookRunGroups": {
     "groupValue": ""
    }
   },
   "outputs": [
    {
     "name": "stderr",
     "output_type": "stream",
     "text": [
      "/home/ellabelle/spark/spark-3.5.1-bin-hadoop3/python/pyspark/pandas/__init__.py:50: UserWarning: 'PYARROW_IGNORE_TIMEZONE' environment variable was not set. It is required to set this environment variable to '1' in both driver and executor sides if you use pyarrow>=2.0.0. pandas-on-Spark will set it for you but it does not work if there is a Spark context already launched.\n",
      "  warnings.warn(\n"
     ]
    }
   ],
   "source": [
    "import json\n",
    "import time \n",
    "import pandas as pd\n",
    "from typing import Dict\n",
    "from kafka import KafkaProducer\n",
    "import pyspark.pandas as ps\n",
    "\n",
    "input_path = f'./resources/green_tripdata_2019-10.csv'\n"
   ]
  },
  {
   "cell_type": "markdown",
   "metadata": {},
   "source": [
    "### Declare schema\n",
    "\n",
    "If schema not declared with 'object' for `_datatime` columns, datetime schema is inferred (default setting) and set to `datetime64[ns]` which results in following error `TypeError: Object of type datetime is not JSON serializable`\n"
   ]
  },
  {
   "cell_type": "code",
   "execution_count": 19,
   "metadata": {
    "notebookRunGroups": {
     "groupValue": ""
    }
   },
   "outputs": [],
   "source": [
    "csv_schema = {\n",
    "    'lpep_pickup_datetime': object,\n",
    "    'lpep_dropoff_datetime': object,\n",
    "    'PULocationID': 'int',\n",
    "    'DOLocationID': 'int',\n",
    "    'passenger_count': 'float',\n",
    "    'trip_distance': 'float',\n",
    "    'tip_amount': 'float'\n",
    "    }"
   ]
  },
  {
   "cell_type": "markdown",
   "metadata": {},
   "source": [
    "### Declare options"
   ]
  },
  {
   "cell_type": "code",
   "execution_count": 20,
   "metadata": {
    "notebookRunGroups": {
     "groupValue": ""
    }
   },
   "outputs": [],
   "source": [
    "options = { \"header\": 0, \"usecols\": column_names, \"dtype\": csv_schema } "
   ]
  },
  {
   "cell_type": "markdown",
   "metadata": {},
   "source": [
    "### Read csv into pyspark dataframe\n",
    "[docs](https://spark.apache.org/docs/latest/api/python/reference/pyspark.pandas/api/pyspark.pandas.read_csv.html)\n"
   ]
  },
  {
   "cell_type": "code",
   "execution_count": 21,
   "metadata": {
    "notebookRunGroups": {
     "groupValue": ""
    }
   },
   "outputs": [],
   "source": [
    "df = pd.read_csv(input_path, **options)"
   ]
  },
  {
   "cell_type": "code",
   "execution_count": 22,
   "metadata": {
    "notebookRunGroups": {
     "groupValue": ""
    }
   },
   "outputs": [
    {
     "data": {
      "text/html": [
       "<div>\n",
       "<style scoped>\n",
       "    .dataframe tbody tr th:only-of-type {\n",
       "        vertical-align: middle;\n",
       "    }\n",
       "\n",
       "    .dataframe tbody tr th {\n",
       "        vertical-align: top;\n",
       "    }\n",
       "\n",
       "    .dataframe thead th {\n",
       "        text-align: right;\n",
       "    }\n",
       "</style>\n",
       "<table border=\"1\" class=\"dataframe\">\n",
       "  <thead>\n",
       "    <tr style=\"text-align: right;\">\n",
       "      <th></th>\n",
       "      <th>lpep_pickup_datetime</th>\n",
       "      <th>lpep_dropoff_datetime</th>\n",
       "      <th>PULocationID</th>\n",
       "      <th>DOLocationID</th>\n",
       "      <th>passenger_count</th>\n",
       "      <th>trip_distance</th>\n",
       "      <th>tip_amount</th>\n",
       "    </tr>\n",
       "  </thead>\n",
       "  <tbody>\n",
       "    <tr>\n",
       "      <th>0</th>\n",
       "      <td>2019-10-01 00:26:02</td>\n",
       "      <td>2019-10-01 00:39:58</td>\n",
       "      <td>112</td>\n",
       "      <td>196</td>\n",
       "      <td>1.0</td>\n",
       "      <td>5.88</td>\n",
       "      <td>0.0</td>\n",
       "    </tr>\n",
       "    <tr>\n",
       "      <th>1</th>\n",
       "      <td>2019-10-01 00:18:11</td>\n",
       "      <td>2019-10-01 00:22:38</td>\n",
       "      <td>43</td>\n",
       "      <td>263</td>\n",
       "      <td>1.0</td>\n",
       "      <td>0.80</td>\n",
       "      <td>0.0</td>\n",
       "    </tr>\n",
       "  </tbody>\n",
       "</table>\n",
       "</div>"
      ],
      "text/plain": [
       "  lpep_pickup_datetime lpep_dropoff_datetime  PULocationID  DOLocationID  \\\n",
       "0  2019-10-01 00:26:02   2019-10-01 00:39:58           112           196   \n",
       "1  2019-10-01 00:18:11   2019-10-01 00:22:38            43           263   \n",
       "\n",
       "   passenger_count  trip_distance  tip_amount  \n",
       "0              1.0           5.88         0.0  \n",
       "1              1.0           0.80         0.0  "
      ]
     },
     "execution_count": 22,
     "metadata": {},
     "output_type": "execute_result"
    }
   ],
   "source": [
    "df.head(2)"
   ]
  },
  {
   "cell_type": "markdown",
   "metadata": {},
   "source": [
    "### Confirming record count of csv file and dataframe"
   ]
  },
  {
   "cell_type": "code",
   "execution_count": 23,
   "metadata": {
    "notebookRunGroups": {
     "groupValue": ""
    }
   },
   "outputs": [
    {
     "name": "stdout",
     "output_type": "stream",
     "text": [
      "476387 ./resources/green_tripdata_2019-10.csv\n"
     ]
    }
   ],
   "source": [
    "!wc -l './resources/green_tripdata_2019-10.csv'"
   ]
  },
  {
   "cell_type": "code",
   "execution_count": 24,
   "metadata": {
    "notebookRunGroups": {
     "groupValue": ""
    }
   },
   "outputs": [
    {
     "data": {
      "text/plain": [
       "(476386, 7)"
      ]
     },
     "execution_count": 24,
     "metadata": {},
     "output_type": "execute_result"
    }
   ],
   "source": [
    "df.shape"
   ]
  },
  {
   "cell_type": "markdown",
   "metadata": {},
   "source": [
    "### Confirming schema and null counts"
   ]
  },
  {
   "cell_type": "code",
   "execution_count": 25,
   "metadata": {
    "notebookRunGroups": {
     "groupValue": ""
    }
   },
   "outputs": [
    {
     "name": "stdout",
     "output_type": "stream",
     "text": [
      "<class 'pandas.core.frame.DataFrame'>\n",
      "RangeIndex: 476386 entries, 0 to 476385\n",
      "Data columns (total 7 columns):\n",
      " #   Column                 Non-Null Count   Dtype  \n",
      "---  ------                 --------------   -----  \n",
      " 0   lpep_pickup_datetime   476386 non-null  object \n",
      " 1   lpep_dropoff_datetime  476386 non-null  object \n",
      " 2   PULocationID           476386 non-null  int64  \n",
      " 3   DOLocationID           476386 non-null  int64  \n",
      " 4   passenger_count        387007 non-null  float64\n",
      " 5   trip_distance          476386 non-null  float64\n",
      " 6   tip_amount             476386 non-null  float64\n",
      "dtypes: float64(3), int64(2), object(2)\n",
      "memory usage: 25.4+ MB\n"
     ]
    }
   ],
   "source": [
    "df.info()"
   ]
  },
  {
   "cell_type": "markdown",
   "metadata": {},
   "source": [
    "Before next cell, create the topic first.\n",
    "\n",
    "> [!TIP]\n",
    "> \n",
    "> Command: \n",
    "> \n",
    "> ```bash\n",
    "> rpk topic create green-trips\n",
    ">\n",
    "> TOPIC        STATUS\n",
    "> green-trips  OK\n",
    "> ```\n",
    "\n",
    "Iterate over the records in the dataframe\n",
    "\n",
    "Note: this way of iterating over the records is more efficient compared to `iterrows`"
   ]
  },
  {
   "cell_type": "code",
   "execution_count": 26,
   "metadata": {
    "notebookRunGroups": {
     "groupValue": ""
    }
   },
   "outputs": [
    {
     "name": "stderr",
     "output_type": "stream",
     "text": [
      "                                                                                \r"
     ]
    },
    {
     "name": "stdout",
     "output_type": "stream",
     "text": [
      "-------------------------------------------\n",
      "Batch: 1\n",
      "-------------------------------------------\n",
      "+------------------------------------------+------------+-----+\n",
      "|window                                    |DOLocationID|count|\n",
      "+------------------------------------------+------------+-----+\n",
      "|{2024-04-08 22:50:00, 2024-04-08 22:55:00}|74          |48214|\n",
      "|{2024-04-08 22:50:00, 2024-04-08 22:55:00}|42          |43011|\n",
      "|{2024-04-08 22:50:00, 2024-04-08 22:55:00}|41          |38226|\n",
      "|{2024-04-08 22:50:00, 2024-04-08 22:55:00}|75          |34857|\n",
      "|{2024-04-08 22:50:00, 2024-04-08 22:55:00}|129         |32427|\n",
      "|{2024-04-08 22:50:00, 2024-04-08 22:55:00}|7           |31456|\n",
      "|{2024-04-08 22:50:00, 2024-04-08 22:55:00}|166         |29782|\n",
      "|{2024-04-08 22:50:00, 2024-04-08 22:55:00}|236         |21615|\n",
      "|{2024-04-08 22:50:00, 2024-04-08 22:55:00}|223         |20704|\n",
      "|{2024-04-08 22:50:00, 2024-04-08 22:55:00}|238         |19997|\n",
      "|{2024-04-08 22:50:00, 2024-04-08 22:55:00}|82          |19684|\n",
      "|{2024-04-08 22:50:00, 2024-04-08 22:55:00}|181         |19394|\n",
      "|{2024-04-08 22:50:00, 2024-04-08 22:55:00}|95          |19241|\n",
      "|{2024-04-08 22:50:00, 2024-04-08 22:55:00}|244         |18130|\n",
      "|{2024-04-08 22:50:00, 2024-04-08 22:55:00}|116         |17139|\n",
      "|{2024-04-08 22:50:00, 2024-04-08 22:55:00}|138         |17009|\n",
      "|{2024-04-08 22:50:00, 2024-04-08 22:55:00}|61          |16565|\n",
      "|{2024-04-08 22:50:00, 2024-04-08 22:55:00}|97          |15894|\n",
      "|{2024-04-08 22:50:00, 2024-04-08 22:55:00}|151         |14041|\n",
      "|{2024-04-08 22:50:00, 2024-04-08 22:55:00}|49          |13840|\n",
      "+------------------------------------------+------------+-----+\n",
      "only showing top 20 rows\n",
      "\n"
     ]
    },
    {
     "name": "stderr",
     "output_type": "stream",
     "text": [
      "                                                                                \r"
     ]
    },
    {
     "name": "stdout",
     "output_type": "stream",
     "text": [
      "-------------------------------------------\n",
      "Batch: 1\n",
      "-------------------------------------------\n",
      "+------------------------------------------+------------+-----+\n",
      "|window                                    |DOLocationID|count|\n",
      "+------------------------------------------+------------+-----+\n",
      "|{2024-04-08 23:10:00, 2024-04-08 23:15:00}|74          |48214|\n",
      "|{2024-04-08 23:10:00, 2024-04-08 23:15:00}|42          |43011|\n",
      "|{2024-04-08 23:10:00, 2024-04-08 23:15:00}|41          |38226|\n",
      "|{2024-04-08 23:10:00, 2024-04-08 23:15:00}|75          |34857|\n",
      "|{2024-04-08 23:10:00, 2024-04-08 23:15:00}|129         |32427|\n",
      "|{2024-04-08 23:10:00, 2024-04-08 23:15:00}|7           |31456|\n",
      "|{2024-04-08 23:10:00, 2024-04-08 23:15:00}|166         |29782|\n",
      "|{2024-04-08 23:10:00, 2024-04-08 23:15:00}|236         |21615|\n",
      "|{2024-04-08 23:10:00, 2024-04-08 23:15:00}|223         |20704|\n",
      "|{2024-04-08 23:10:00, 2024-04-08 23:15:00}|238         |19997|\n",
      "|{2024-04-08 23:10:00, 2024-04-08 23:15:00}|82          |19684|\n",
      "|{2024-04-08 23:10:00, 2024-04-08 23:15:00}|181         |19394|\n",
      "|{2024-04-08 23:10:00, 2024-04-08 23:15:00}|95          |19241|\n",
      "|{2024-04-08 23:10:00, 2024-04-08 23:15:00}|244         |18130|\n",
      "|{2024-04-08 23:10:00, 2024-04-08 23:15:00}|116         |17139|\n",
      "|{2024-04-08 23:10:00, 2024-04-08 23:15:00}|138         |17009|\n",
      "|{2024-04-08 23:10:00, 2024-04-08 23:15:00}|61          |16565|\n",
      "|{2024-04-08 23:10:00, 2024-04-08 23:15:00}|97          |15894|\n",
      "|{2024-04-08 23:10:00, 2024-04-08 23:15:00}|151         |14041|\n",
      "|{2024-04-08 23:10:00, 2024-04-08 23:15:00}|49          |13840|\n",
      "+------------------------------------------+------------+-----+\n",
      "only showing top 20 rows\n",
      "\n"
     ]
    },
    {
     "name": "stderr",
     "output_type": "stream",
     "text": [
      "[Stage 28:==>                                                    (8 + 13) / 200]\r"
     ]
    },
    {
     "name": "stdout",
     "output_type": "stream",
     "text": [
      "-------------------------------------------\n",
      "Batch: 2\n",
      "-------------------------------------------\n",
      "+------------------------------------------+------------+-----+\n",
      "|window                                    |DOLocationID|count|\n",
      "+------------------------------------------+------------+-----+\n",
      "|{2024-04-08 22:50:00, 2024-04-08 22:55:00}|74          |48214|\n",
      "|{2024-04-08 22:50:00, 2024-04-08 22:55:00}|42          |43011|\n",
      "|{2024-04-08 22:50:00, 2024-04-08 22:55:00}|41          |38226|\n",
      "|{2024-04-08 22:50:00, 2024-04-08 22:55:00}|75          |34857|\n",
      "|{2024-04-08 22:50:00, 2024-04-08 22:55:00}|129         |32427|\n",
      "|{2024-04-08 22:50:00, 2024-04-08 22:55:00}|7           |31456|\n",
      "|{2024-04-08 22:50:00, 2024-04-08 22:55:00}|166         |29782|\n",
      "|{2024-04-08 22:50:00, 2024-04-08 22:55:00}|236         |21615|\n",
      "|{2024-04-08 22:50:00, 2024-04-08 22:55:00}|223         |20704|\n",
      "|{2024-04-08 22:50:00, 2024-04-08 22:55:00}|238         |19997|\n",
      "|{2024-04-08 22:50:00, 2024-04-08 22:55:00}|82          |19684|\n",
      "|{2024-04-08 22:50:00, 2024-04-08 22:55:00}|181         |19394|\n",
      "|{2024-04-08 22:50:00, 2024-04-08 22:55:00}|95          |19241|\n",
      "|{2024-04-08 22:50:00, 2024-04-08 22:55:00}|244         |18130|\n",
      "|{2024-04-08 22:50:00, 2024-04-08 22:55:00}|116         |17139|\n",
      "|{2024-04-08 22:50:00, 2024-04-08 22:55:00}|138         |17009|\n",
      "|{2024-04-08 22:50:00, 2024-04-08 22:55:00}|61          |16565|\n",
      "|{2024-04-08 22:50:00, 2024-04-08 22:55:00}|97          |15894|\n",
      "|{2024-04-08 22:50:00, 2024-04-08 22:55:00}|151         |14041|\n",
      "|{2024-04-08 22:50:00, 2024-04-08 22:55:00}|49          |13840|\n",
      "+------------------------------------------+------------+-----+\n",
      "only showing top 20 rows\n",
      "\n"
     ]
    },
    {
     "name": "stderr",
     "output_type": "stream",
     "text": [
      "                                                                                \r"
     ]
    },
    {
     "name": "stdout",
     "output_type": "stream",
     "text": [
      "-------------------------------------------\n",
      "Batch: 2\n",
      "-------------------------------------------\n",
      "+------------------------------------------+------------+-----+\n",
      "|window                                    |DOLocationID|count|\n",
      "+------------------------------------------+------------+-----+\n",
      "|{2024-04-08 23:10:00, 2024-04-08 23:15:00}|74          |48214|\n",
      "|{2024-04-08 23:10:00, 2024-04-08 23:15:00}|42          |43011|\n",
      "|{2024-04-08 23:10:00, 2024-04-08 23:15:00}|41          |38226|\n",
      "|{2024-04-08 23:10:00, 2024-04-08 23:15:00}|75          |34857|\n",
      "|{2024-04-08 23:10:00, 2024-04-08 23:15:00}|129         |32427|\n",
      "|{2024-04-08 23:10:00, 2024-04-08 23:15:00}|7           |31456|\n",
      "|{2024-04-08 23:10:00, 2024-04-08 23:15:00}|166         |29782|\n",
      "|{2024-04-08 23:10:00, 2024-04-08 23:15:00}|236         |21615|\n",
      "|{2024-04-08 23:10:00, 2024-04-08 23:15:00}|223         |20704|\n",
      "|{2024-04-08 23:10:00, 2024-04-08 23:15:00}|238         |19997|\n",
      "|{2024-04-08 23:10:00, 2024-04-08 23:15:00}|82          |19684|\n",
      "|{2024-04-08 23:10:00, 2024-04-08 23:15:00}|181         |19394|\n",
      "|{2024-04-08 23:10:00, 2024-04-08 23:15:00}|95          |19241|\n",
      "|{2024-04-08 23:10:00, 2024-04-08 23:15:00}|244         |18130|\n",
      "|{2024-04-08 23:10:00, 2024-04-08 23:15:00}|116         |17139|\n",
      "|{2024-04-08 23:10:00, 2024-04-08 23:15:00}|138         |17009|\n",
      "|{2024-04-08 23:10:00, 2024-04-08 23:15:00}|61          |16565|\n",
      "|{2024-04-08 23:10:00, 2024-04-08 23:15:00}|97          |15894|\n",
      "|{2024-04-08 23:10:00, 2024-04-08 23:15:00}|151         |14041|\n",
      "|{2024-04-08 23:10:00, 2024-04-08 23:15:00}|49          |13840|\n",
      "+------------------------------------------+------------+-----+\n",
      "only showing top 20 rows\n",
      "\n"
     ]
    },
    {
     "name": "stderr",
     "output_type": "stream",
     "text": [
      "[Stage 38:=>                                                     (4 + 18) / 200]\r"
     ]
    },
    {
     "name": "stdout",
     "output_type": "stream",
     "text": [
      "-------------------------------------------\n",
      "Batch: 3\n",
      "-------------------------------------------\n",
      "+------------------------------------------+------------+-----+\n",
      "|window                                    |DOLocationID|count|\n",
      "+------------------------------------------+------------+-----+\n",
      "|{2024-04-08 22:50:00, 2024-04-08 22:55:00}|74          |48214|\n",
      "|{2024-04-08 22:50:00, 2024-04-08 22:55:00}|42          |43011|\n",
      "|{2024-04-08 22:50:00, 2024-04-08 22:55:00}|41          |38226|\n",
      "|{2024-04-08 22:50:00, 2024-04-08 22:55:00}|75          |34857|\n",
      "|{2024-04-08 22:50:00, 2024-04-08 22:55:00}|129         |32427|\n",
      "|{2024-04-08 22:50:00, 2024-04-08 22:55:00}|7           |31456|\n",
      "|{2024-04-08 22:50:00, 2024-04-08 22:55:00}|166         |29782|\n",
      "|{2024-04-08 22:50:00, 2024-04-08 22:55:00}|236         |21615|\n",
      "|{2024-04-08 22:50:00, 2024-04-08 22:55:00}|223         |20704|\n",
      "|{2024-04-08 22:50:00, 2024-04-08 22:55:00}|238         |19997|\n",
      "|{2024-04-08 22:50:00, 2024-04-08 22:55:00}|82          |19684|\n",
      "|{2024-04-08 22:50:00, 2024-04-08 22:55:00}|181         |19394|\n",
      "|{2024-04-08 22:50:00, 2024-04-08 22:55:00}|95          |19241|\n",
      "|{2024-04-08 22:50:00, 2024-04-08 22:55:00}|244         |18130|\n",
      "|{2024-04-08 22:50:00, 2024-04-08 22:55:00}|116         |17139|\n",
      "|{2024-04-08 22:50:00, 2024-04-08 22:55:00}|138         |17009|\n",
      "|{2024-04-08 22:50:00, 2024-04-08 22:55:00}|61          |16565|\n",
      "|{2024-04-08 22:50:00, 2024-04-08 22:55:00}|97          |15894|\n",
      "|{2024-04-08 22:50:00, 2024-04-08 22:55:00}|151         |14041|\n",
      "|{2024-04-08 22:50:00, 2024-04-08 22:55:00}|49          |13840|\n",
      "+------------------------------------------+------------+-----+\n",
      "only showing top 20 rows\n",
      "\n"
     ]
    },
    {
     "name": "stderr",
     "output_type": "stream",
     "text": [
      "                                                                                \r"
     ]
    },
    {
     "name": "stdout",
     "output_type": "stream",
     "text": [
      "-------------------------------------------\n",
      "Batch: 3\n",
      "-------------------------------------------\n",
      "+------------------------------------------+------------+-----+\n",
      "|window                                    |DOLocationID|count|\n",
      "+------------------------------------------+------------+-----+\n",
      "|{2024-04-08 23:10:00, 2024-04-08 23:15:00}|74          |48214|\n",
      "|{2024-04-08 23:10:00, 2024-04-08 23:15:00}|42          |43011|\n",
      "|{2024-04-08 23:10:00, 2024-04-08 23:15:00}|41          |38226|\n",
      "|{2024-04-08 23:10:00, 2024-04-08 23:15:00}|75          |34857|\n",
      "|{2024-04-08 23:10:00, 2024-04-08 23:15:00}|129         |32427|\n",
      "|{2024-04-08 23:10:00, 2024-04-08 23:15:00}|7           |31456|\n",
      "|{2024-04-08 23:10:00, 2024-04-08 23:15:00}|166         |29782|\n",
      "|{2024-04-08 23:10:00, 2024-04-08 23:15:00}|236         |21615|\n",
      "|{2024-04-08 23:10:00, 2024-04-08 23:15:00}|223         |20704|\n",
      "|{2024-04-08 23:10:00, 2024-04-08 23:15:00}|238         |19997|\n",
      "|{2024-04-08 23:10:00, 2024-04-08 23:15:00}|82          |19684|\n",
      "|{2024-04-08 23:10:00, 2024-04-08 23:15:00}|181         |19394|\n",
      "|{2024-04-08 23:10:00, 2024-04-08 23:15:00}|95          |19241|\n",
      "|{2024-04-08 23:10:00, 2024-04-08 23:15:00}|244         |18130|\n",
      "|{2024-04-08 23:10:00, 2024-04-08 23:15:00}|116         |17139|\n",
      "|{2024-04-08 23:10:00, 2024-04-08 23:15:00}|138         |17009|\n",
      "|{2024-04-08 23:10:00, 2024-04-08 23:15:00}|61          |16565|\n",
      "|{2024-04-08 23:10:00, 2024-04-08 23:15:00}|97          |15894|\n",
      "|{2024-04-08 23:10:00, 2024-04-08 23:15:00}|151         |14041|\n",
      "|{2024-04-08 23:10:00, 2024-04-08 23:15:00}|49          |13840|\n",
      "+------------------------------------------+------------+-----+\n",
      "only showing top 20 rows\n",
      "\n"
     ]
    },
    {
     "name": "stderr",
     "output_type": "stream",
     "text": [
      "[Stage 48:===>                                                  (13 + 12) / 200]\r"
     ]
    },
    {
     "name": "stdout",
     "output_type": "stream",
     "text": [
      "-------------------------------------------\n",
      "Batch: 4\n",
      "-------------------------------------------\n",
      "+------------------------------------------+------------+-----+\n",
      "|window                                    |DOLocationID|count|\n",
      "+------------------------------------------+------------+-----+\n",
      "|{2024-04-08 22:50:00, 2024-04-08 22:55:00}|74          |48214|\n",
      "|{2024-04-08 22:50:00, 2024-04-08 22:55:00}|42          |43011|\n",
      "|{2024-04-08 22:50:00, 2024-04-08 22:55:00}|41          |38226|\n",
      "|{2024-04-08 22:50:00, 2024-04-08 22:55:00}|75          |34857|\n",
      "|{2024-04-08 22:50:00, 2024-04-08 22:55:00}|129         |32427|\n",
      "|{2024-04-08 22:50:00, 2024-04-08 22:55:00}|7           |31456|\n",
      "|{2024-04-08 22:50:00, 2024-04-08 22:55:00}|166         |29782|\n",
      "|{2024-04-08 22:50:00, 2024-04-08 22:55:00}|236         |21615|\n",
      "|{2024-04-08 22:50:00, 2024-04-08 22:55:00}|223         |20704|\n",
      "|{2024-04-08 22:50:00, 2024-04-08 22:55:00}|238         |19997|\n",
      "|{2024-04-08 22:50:00, 2024-04-08 22:55:00}|82          |19684|\n",
      "|{2024-04-08 22:50:00, 2024-04-08 22:55:00}|181         |19394|\n",
      "|{2024-04-08 22:50:00, 2024-04-08 22:55:00}|95          |19241|\n",
      "|{2024-04-08 22:50:00, 2024-04-08 22:55:00}|244         |18130|\n",
      "|{2024-04-08 22:50:00, 2024-04-08 22:55:00}|116         |17139|\n",
      "|{2024-04-08 22:50:00, 2024-04-08 22:55:00}|138         |17009|\n",
      "|{2024-04-08 22:50:00, 2024-04-08 22:55:00}|61          |16565|\n",
      "|{2024-04-08 22:50:00, 2024-04-08 22:55:00}|97          |15894|\n",
      "|{2024-04-08 22:50:00, 2024-04-08 22:55:00}|151         |14041|\n",
      "|{2024-04-08 22:50:00, 2024-04-08 22:55:00}|49          |13840|\n",
      "+------------------------------------------+------------+-----+\n",
      "only showing top 20 rows\n",
      "\n"
     ]
    },
    {
     "name": "stderr",
     "output_type": "stream",
     "text": [
      "                                                                                \r"
     ]
    },
    {
     "name": "stdout",
     "output_type": "stream",
     "text": [
      "-------------------------------------------\n",
      "Batch: 4\n",
      "-------------------------------------------\n",
      "+------------------------------------------+------------+-----+\n",
      "|window                                    |DOLocationID|count|\n",
      "+------------------------------------------+------------+-----+\n",
      "|{2024-04-08 23:10:00, 2024-04-08 23:15:00}|74          |48214|\n",
      "|{2024-04-08 23:10:00, 2024-04-08 23:15:00}|42          |43011|\n",
      "|{2024-04-08 23:10:00, 2024-04-08 23:15:00}|41          |38226|\n",
      "|{2024-04-08 23:10:00, 2024-04-08 23:15:00}|75          |34857|\n",
      "|{2024-04-08 23:10:00, 2024-04-08 23:15:00}|129         |32427|\n",
      "|{2024-04-08 23:10:00, 2024-04-08 23:15:00}|7           |31456|\n",
      "|{2024-04-08 23:10:00, 2024-04-08 23:15:00}|166         |29782|\n",
      "|{2024-04-08 23:10:00, 2024-04-08 23:15:00}|236         |21615|\n",
      "|{2024-04-08 23:10:00, 2024-04-08 23:15:00}|223         |20704|\n",
      "|{2024-04-08 23:10:00, 2024-04-08 23:15:00}|238         |19997|\n",
      "|{2024-04-08 23:10:00, 2024-04-08 23:15:00}|82          |19684|\n",
      "|{2024-04-08 23:10:00, 2024-04-08 23:15:00}|181         |19394|\n",
      "|{2024-04-08 23:10:00, 2024-04-08 23:15:00}|95          |19241|\n",
      "|{2024-04-08 23:10:00, 2024-04-08 23:15:00}|244         |18130|\n",
      "|{2024-04-08 23:10:00, 2024-04-08 23:15:00}|116         |17139|\n",
      "|{2024-04-08 23:10:00, 2024-04-08 23:15:00}|138         |17009|\n",
      "|{2024-04-08 23:10:00, 2024-04-08 23:15:00}|61          |16565|\n",
      "|{2024-04-08 23:10:00, 2024-04-08 23:15:00}|97          |15894|\n",
      "|{2024-04-08 23:10:00, 2024-04-08 23:15:00}|151         |14041|\n",
      "|{2024-04-08 23:10:00, 2024-04-08 23:15:00}|49          |13840|\n",
      "+------------------------------------------+------------+-----+\n",
      "only showing top 20 rows\n",
      "\n"
     ]
    },
    {
     "name": "stderr",
     "output_type": "stream",
     "text": [
      "[Stage 58:=>                                                     (6 + 15) / 200]\r"
     ]
    },
    {
     "name": "stdout",
     "output_type": "stream",
     "text": [
      "-------------------------------------------\n",
      "Batch: 5\n",
      "-------------------------------------------\n",
      "+------------------------------------------+------------+-----+\n",
      "|window                                    |DOLocationID|count|\n",
      "+------------------------------------------+------------+-----+\n",
      "|{2024-04-08 22:50:00, 2024-04-08 22:55:00}|74          |48214|\n",
      "|{2024-04-08 22:50:00, 2024-04-08 22:55:00}|42          |43011|\n",
      "|{2024-04-08 22:50:00, 2024-04-08 22:55:00}|41          |38226|\n",
      "|{2024-04-08 22:50:00, 2024-04-08 22:55:00}|75          |34857|\n",
      "|{2024-04-08 22:50:00, 2024-04-08 22:55:00}|129         |32427|\n",
      "|{2024-04-08 22:50:00, 2024-04-08 22:55:00}|7           |31456|\n",
      "|{2024-04-08 22:50:00, 2024-04-08 22:55:00}|166         |29782|\n",
      "|{2024-04-08 22:50:00, 2024-04-08 22:55:00}|236         |21615|\n",
      "|{2024-04-08 22:50:00, 2024-04-08 22:55:00}|223         |20704|\n",
      "|{2024-04-08 22:50:00, 2024-04-08 22:55:00}|238         |19997|\n",
      "|{2024-04-08 22:50:00, 2024-04-08 22:55:00}|82          |19684|\n",
      "|{2024-04-08 22:50:00, 2024-04-08 22:55:00}|181         |19394|\n",
      "|{2024-04-08 22:50:00, 2024-04-08 22:55:00}|95          |19241|\n",
      "|{2024-04-08 22:50:00, 2024-04-08 22:55:00}|244         |18130|\n",
      "|{2024-04-08 22:50:00, 2024-04-08 22:55:00}|116         |17139|\n",
      "|{2024-04-08 22:50:00, 2024-04-08 22:55:00}|138         |17009|\n",
      "|{2024-04-08 22:50:00, 2024-04-08 22:55:00}|61          |16565|\n",
      "|{2024-04-08 22:50:00, 2024-04-08 22:55:00}|97          |15894|\n",
      "|{2024-04-08 22:50:00, 2024-04-08 22:55:00}|151         |14041|\n",
      "|{2024-04-08 22:50:00, 2024-04-08 22:55:00}|49          |13840|\n",
      "+------------------------------------------+------------+-----+\n",
      "only showing top 20 rows\n",
      "\n"
     ]
    },
    {
     "name": "stderr",
     "output_type": "stream",
     "text": [
      "[Stage 58:=================================================>   (185 + 15) / 200]\r"
     ]
    },
    {
     "name": "stdout",
     "output_type": "stream",
     "text": [
      "-------------------------------------------\n",
      "Batch: 5\n",
      "-------------------------------------------\n",
      "+------------------------------------------+------------+-----+\n",
      "|window                                    |DOLocationID|count|\n",
      "+------------------------------------------+------------+-----+\n",
      "|{2024-04-08 23:10:00, 2024-04-08 23:15:00}|74          |48214|\n",
      "|{2024-04-08 23:10:00, 2024-04-08 23:15:00}|42          |43011|\n",
      "|{2024-04-08 23:10:00, 2024-04-08 23:15:00}|41          |38226|\n",
      "|{2024-04-08 23:10:00, 2024-04-08 23:15:00}|75          |34857|\n",
      "|{2024-04-08 23:10:00, 2024-04-08 23:15:00}|129         |32427|\n",
      "|{2024-04-08 23:10:00, 2024-04-08 23:15:00}|7           |31456|\n",
      "|{2024-04-08 23:10:00, 2024-04-08 23:15:00}|166         |29782|\n",
      "|{2024-04-08 23:10:00, 2024-04-08 23:15:00}|236         |21615|\n",
      "|{2024-04-08 23:10:00, 2024-04-08 23:15:00}|223         |20704|\n",
      "|{2024-04-08 23:10:00, 2024-04-08 23:15:00}|238         |19997|\n",
      "|{2024-04-08 23:10:00, 2024-04-08 23:15:00}|82          |19684|\n",
      "|{2024-04-08 23:10:00, 2024-04-08 23:15:00}|181         |19394|\n",
      "|{2024-04-08 23:10:00, 2024-04-08 23:15:00}|95          |19241|\n",
      "|{2024-04-08 23:10:00, 2024-04-08 23:15:00}|244         |18130|\n",
      "|{2024-04-08 23:10:00, 2024-04-08 23:15:00}|116         |17139|\n",
      "|{2024-04-08 23:10:00, 2024-04-08 23:15:00}|138         |17009|\n",
      "|{2024-04-08 23:10:00, 2024-04-08 23:15:00}|61          |16565|\n",
      "|{2024-04-08 23:10:00, 2024-04-08 23:15:00}|97          |15894|\n",
      "|{2024-04-08 23:10:00, 2024-04-08 23:15:00}|151         |14041|\n",
      "|{2024-04-08 23:10:00, 2024-04-08 23:15:00}|49          |13840|\n",
      "+------------------------------------------+------------+-----+\n",
      "only showing top 20 rows\n",
      "\n"
     ]
    },
    {
     "name": "stderr",
     "output_type": "stream",
     "text": [
      "                                                                                \r"
     ]
    },
    {
     "name": "stdout",
     "output_type": "stream",
     "text": [
      "-------------------------------------------\n",
      "Batch: 6\n",
      "-------------------------------------------\n",
      "+------------------------------------------+------------+-----+\n",
      "|window                                    |DOLocationID|count|\n",
      "+------------------------------------------+------------+-----+\n",
      "|{2024-04-08 22:50:00, 2024-04-08 22:55:00}|74          |48214|\n",
      "|{2024-04-08 22:50:00, 2024-04-08 22:55:00}|42          |43011|\n",
      "|{2024-04-08 22:50:00, 2024-04-08 22:55:00}|41          |38226|\n",
      "|{2024-04-08 22:50:00, 2024-04-08 22:55:00}|75          |34857|\n",
      "|{2024-04-08 22:50:00, 2024-04-08 22:55:00}|129         |32427|\n",
      "|{2024-04-08 22:50:00, 2024-04-08 22:55:00}|7           |31456|\n",
      "|{2024-04-08 22:50:00, 2024-04-08 22:55:00}|166         |29782|\n",
      "|{2024-04-08 22:50:00, 2024-04-08 22:55:00}|236         |21615|\n",
      "|{2024-04-08 22:50:00, 2024-04-08 22:55:00}|223         |20704|\n",
      "|{2024-04-08 22:50:00, 2024-04-08 22:55:00}|238         |19997|\n",
      "|{2024-04-08 22:50:00, 2024-04-08 22:55:00}|82          |19684|\n",
      "|{2024-04-08 22:50:00, 2024-04-08 22:55:00}|181         |19394|\n",
      "|{2024-04-08 22:50:00, 2024-04-08 22:55:00}|95          |19241|\n",
      "|{2024-04-08 22:50:00, 2024-04-08 22:55:00}|244         |18130|\n",
      "|{2024-04-08 22:50:00, 2024-04-08 22:55:00}|116         |17139|\n",
      "|{2024-04-08 22:50:00, 2024-04-08 22:55:00}|138         |17009|\n",
      "|{2024-04-08 22:50:00, 2024-04-08 22:55:00}|61          |16565|\n",
      "|{2024-04-08 22:50:00, 2024-04-08 22:55:00}|97          |15894|\n",
      "|{2024-04-08 22:50:00, 2024-04-08 22:55:00}|151         |14041|\n",
      "|{2024-04-08 22:50:00, 2024-04-08 22:55:00}|49          |13840|\n",
      "+------------------------------------------+------------+-----+\n",
      "only showing top 20 rows\n",
      "\n"
     ]
    },
    {
     "name": "stderr",
     "output_type": "stream",
     "text": [
      "                                                                                \r"
     ]
    },
    {
     "name": "stdout",
     "output_type": "stream",
     "text": [
      "-------------------------------------------\n",
      "Batch: 6\n",
      "-------------------------------------------\n",
      "+------------------------------------------+------------+-----+\n",
      "|window                                    |DOLocationID|count|\n",
      "+------------------------------------------+------------+-----+\n",
      "|{2024-04-08 23:10:00, 2024-04-08 23:15:00}|74          |48214|\n",
      "|{2024-04-08 23:10:00, 2024-04-08 23:15:00}|42          |43011|\n",
      "|{2024-04-08 23:10:00, 2024-04-08 23:15:00}|41          |38226|\n",
      "|{2024-04-08 23:10:00, 2024-04-08 23:15:00}|75          |34857|\n",
      "|{2024-04-08 23:10:00, 2024-04-08 23:15:00}|129         |32427|\n",
      "|{2024-04-08 23:10:00, 2024-04-08 23:15:00}|7           |31456|\n",
      "|{2024-04-08 23:10:00, 2024-04-08 23:15:00}|166         |29782|\n",
      "|{2024-04-08 23:10:00, 2024-04-08 23:15:00}|236         |21615|\n",
      "|{2024-04-08 23:10:00, 2024-04-08 23:15:00}|223         |20704|\n",
      "|{2024-04-08 23:10:00, 2024-04-08 23:15:00}|238         |19997|\n",
      "|{2024-04-08 23:10:00, 2024-04-08 23:15:00}|82          |19684|\n",
      "|{2024-04-08 23:10:00, 2024-04-08 23:15:00}|181         |19394|\n",
      "|{2024-04-08 23:10:00, 2024-04-08 23:15:00}|95          |19241|\n",
      "|{2024-04-08 23:10:00, 2024-04-08 23:15:00}|244         |18130|\n",
      "|{2024-04-08 23:10:00, 2024-04-08 23:15:00}|116         |17139|\n",
      "|{2024-04-08 23:10:00, 2024-04-08 23:15:00}|138         |17009|\n",
      "|{2024-04-08 23:10:00, 2024-04-08 23:15:00}|61          |16565|\n",
      "|{2024-04-08 23:10:00, 2024-04-08 23:15:00}|97          |15894|\n",
      "|{2024-04-08 23:10:00, 2024-04-08 23:15:00}|151         |14041|\n",
      "|{2024-04-08 23:10:00, 2024-04-08 23:15:00}|49          |13840|\n",
      "+------------------------------------------+------------+-----+\n",
      "only showing top 20 rows\n",
      "\n"
     ]
    },
    {
     "name": "stderr",
     "output_type": "stream",
     "text": [
      "[Stage 78:===>                                                  (12 + 10) / 200]\r"
     ]
    },
    {
     "name": "stdout",
     "output_type": "stream",
     "text": [
      "-------------------------------------------\n",
      "Batch: 7\n",
      "-------------------------------------------\n",
      "+------------------------------------------+------------+-----+\n",
      "|window                                    |DOLocationID|count|\n",
      "+------------------------------------------+------------+-----+\n",
      "|{2024-04-08 22:50:00, 2024-04-08 22:55:00}|74          |48214|\n",
      "|{2024-04-08 22:50:00, 2024-04-08 22:55:00}|42          |43011|\n",
      "|{2024-04-08 22:50:00, 2024-04-08 22:55:00}|41          |38226|\n",
      "|{2024-04-08 22:50:00, 2024-04-08 22:55:00}|75          |34857|\n",
      "|{2024-04-08 22:50:00, 2024-04-08 22:55:00}|129         |32427|\n",
      "|{2024-04-08 22:50:00, 2024-04-08 22:55:00}|7           |31456|\n",
      "|{2024-04-08 22:50:00, 2024-04-08 22:55:00}|166         |29782|\n",
      "|{2024-04-08 22:50:00, 2024-04-08 22:55:00}|236         |21615|\n",
      "|{2024-04-08 22:50:00, 2024-04-08 22:55:00}|223         |20704|\n",
      "|{2024-04-08 22:50:00, 2024-04-08 22:55:00}|238         |19997|\n",
      "|{2024-04-08 22:50:00, 2024-04-08 22:55:00}|82          |19684|\n",
      "|{2024-04-08 22:50:00, 2024-04-08 22:55:00}|181         |19394|\n",
      "|{2024-04-08 22:50:00, 2024-04-08 22:55:00}|95          |19241|\n",
      "|{2024-04-08 22:50:00, 2024-04-08 22:55:00}|244         |18130|\n",
      "|{2024-04-08 22:50:00, 2024-04-08 22:55:00}|116         |17139|\n",
      "|{2024-04-08 22:50:00, 2024-04-08 22:55:00}|138         |17009|\n",
      "|{2024-04-08 22:50:00, 2024-04-08 22:55:00}|61          |16565|\n",
      "|{2024-04-08 22:50:00, 2024-04-08 22:55:00}|97          |15894|\n",
      "|{2024-04-08 22:50:00, 2024-04-08 22:55:00}|151         |14041|\n",
      "|{2024-04-08 22:50:00, 2024-04-08 22:55:00}|49          |13840|\n",
      "+------------------------------------------+------------+-----+\n",
      "only showing top 20 rows\n",
      "\n"
     ]
    },
    {
     "name": "stderr",
     "output_type": "stream",
     "text": [
      "                                                                                \r"
     ]
    },
    {
     "name": "stdout",
     "output_type": "stream",
     "text": [
      "-------------------------------------------\n",
      "Batch: 7\n",
      "-------------------------------------------\n",
      "+------------------------------------------+------------+-----+\n",
      "|window                                    |DOLocationID|count|\n",
      "+------------------------------------------+------------+-----+\n",
      "|{2024-04-08 23:10:00, 2024-04-08 23:15:00}|74          |48214|\n",
      "|{2024-04-08 23:10:00, 2024-04-08 23:15:00}|42          |43011|\n",
      "|{2024-04-08 23:10:00, 2024-04-08 23:15:00}|41          |38226|\n",
      "|{2024-04-08 23:10:00, 2024-04-08 23:15:00}|75          |34857|\n",
      "|{2024-04-08 23:10:00, 2024-04-08 23:15:00}|129         |32427|\n",
      "|{2024-04-08 23:10:00, 2024-04-08 23:15:00}|7           |31456|\n",
      "|{2024-04-08 23:10:00, 2024-04-08 23:15:00}|166         |29782|\n",
      "|{2024-04-08 23:10:00, 2024-04-08 23:15:00}|236         |21615|\n",
      "|{2024-04-08 23:10:00, 2024-04-08 23:15:00}|223         |20704|\n",
      "|{2024-04-08 23:10:00, 2024-04-08 23:15:00}|238         |19997|\n",
      "|{2024-04-08 23:10:00, 2024-04-08 23:15:00}|82          |19684|\n",
      "|{2024-04-08 23:10:00, 2024-04-08 23:15:00}|181         |19394|\n",
      "|{2024-04-08 23:10:00, 2024-04-08 23:15:00}|95          |19241|\n",
      "|{2024-04-08 23:10:00, 2024-04-08 23:15:00}|244         |18130|\n",
      "|{2024-04-08 23:10:00, 2024-04-08 23:15:00}|116         |17139|\n",
      "|{2024-04-08 23:10:00, 2024-04-08 23:15:00}|138         |17009|\n",
      "|{2024-04-08 23:10:00, 2024-04-08 23:15:00}|61          |16565|\n",
      "|{2024-04-08 23:10:00, 2024-04-08 23:15:00}|97          |15894|\n",
      "|{2024-04-08 23:10:00, 2024-04-08 23:15:00}|151         |14041|\n",
      "|{2024-04-08 23:10:00, 2024-04-08 23:15:00}|49          |13840|\n",
      "+------------------------------------------+------------+-----+\n",
      "only showing top 20 rows\n",
      "\n"
     ]
    },
    {
     "name": "stderr",
     "output_type": "stream",
     "text": [
      "                                                                                \r"
     ]
    },
    {
     "name": "stdout",
     "output_type": "stream",
     "text": [
      "-------------------------------------------\n",
      "Batch: 8\n",
      "-------------------------------------------\n",
      "+------------------------------------------+------------+-----+\n",
      "|window                                    |DOLocationID|count|\n",
      "+------------------------------------------+------------+-----+\n",
      "|{2024-04-08 22:50:00, 2024-04-08 22:55:00}|74          |48214|\n",
      "|{2024-04-08 22:50:00, 2024-04-08 22:55:00}|42          |43011|\n",
      "|{2024-04-08 22:50:00, 2024-04-08 22:55:00}|41          |38226|\n",
      "|{2024-04-08 22:50:00, 2024-04-08 22:55:00}|75          |34857|\n",
      "|{2024-04-08 22:50:00, 2024-04-08 22:55:00}|129         |32427|\n",
      "|{2024-04-08 22:50:00, 2024-04-08 22:55:00}|7           |31456|\n",
      "|{2024-04-08 22:50:00, 2024-04-08 22:55:00}|166         |29782|\n",
      "|{2024-04-08 22:50:00, 2024-04-08 22:55:00}|236         |21615|\n",
      "|{2024-04-08 22:50:00, 2024-04-08 22:55:00}|223         |20704|\n",
      "|{2024-04-08 22:50:00, 2024-04-08 22:55:00}|238         |19997|\n",
      "|{2024-04-08 22:50:00, 2024-04-08 22:55:00}|82          |19684|\n",
      "|{2024-04-08 22:50:00, 2024-04-08 22:55:00}|181         |19394|\n",
      "|{2024-04-08 22:50:00, 2024-04-08 22:55:00}|95          |19241|\n",
      "|{2024-04-08 22:50:00, 2024-04-08 22:55:00}|244         |18130|\n",
      "|{2024-04-08 22:50:00, 2024-04-08 22:55:00}|116         |17139|\n",
      "|{2024-04-08 22:50:00, 2024-04-08 22:55:00}|138         |17009|\n",
      "|{2024-04-08 22:50:00, 2024-04-08 22:55:00}|61          |16565|\n",
      "|{2024-04-08 22:50:00, 2024-04-08 22:55:00}|97          |15894|\n",
      "|{2024-04-08 22:50:00, 2024-04-08 22:55:00}|151         |14041|\n",
      "|{2024-04-08 22:50:00, 2024-04-08 22:55:00}|49          |13840|\n",
      "+------------------------------------------+------------+-----+\n",
      "only showing top 20 rows\n",
      "\n"
     ]
    },
    {
     "name": "stderr",
     "output_type": "stream",
     "text": [
      "                                                                                \r"
     ]
    },
    {
     "name": "stdout",
     "output_type": "stream",
     "text": [
      "-------------------------------------------\n",
      "Batch: 8\n",
      "-------------------------------------------\n",
      "+------------------------------------------+------------+-----+\n",
      "|window                                    |DOLocationID|count|\n",
      "+------------------------------------------+------------+-----+\n",
      "|{2024-04-08 23:10:00, 2024-04-08 23:15:00}|74          |48214|\n",
      "|{2024-04-08 23:10:00, 2024-04-08 23:15:00}|42          |43011|\n",
      "|{2024-04-08 23:10:00, 2024-04-08 23:15:00}|41          |38226|\n",
      "|{2024-04-08 23:10:00, 2024-04-08 23:15:00}|75          |34857|\n",
      "|{2024-04-08 23:10:00, 2024-04-08 23:15:00}|129         |32427|\n",
      "|{2024-04-08 23:10:00, 2024-04-08 23:15:00}|7           |31456|\n",
      "|{2024-04-08 23:10:00, 2024-04-08 23:15:00}|166         |29782|\n",
      "|{2024-04-08 23:10:00, 2024-04-08 23:15:00}|236         |21615|\n",
      "|{2024-04-08 23:10:00, 2024-04-08 23:15:00}|223         |20704|\n",
      "|{2024-04-08 23:10:00, 2024-04-08 23:15:00}|238         |19997|\n",
      "|{2024-04-08 23:10:00, 2024-04-08 23:15:00}|82          |19684|\n",
      "|{2024-04-08 23:10:00, 2024-04-08 23:15:00}|181         |19394|\n",
      "|{2024-04-08 23:10:00, 2024-04-08 23:15:00}|95          |19241|\n",
      "|{2024-04-08 23:10:00, 2024-04-08 23:15:00}|244         |18130|\n",
      "|{2024-04-08 23:10:00, 2024-04-08 23:15:00}|116         |17139|\n",
      "|{2024-04-08 23:10:00, 2024-04-08 23:15:00}|138         |17009|\n",
      "|{2024-04-08 23:10:00, 2024-04-08 23:15:00}|61          |16565|\n",
      "|{2024-04-08 23:10:00, 2024-04-08 23:15:00}|97          |15894|\n",
      "|{2024-04-08 23:10:00, 2024-04-08 23:15:00}|151         |14041|\n",
      "|{2024-04-08 23:10:00, 2024-04-08 23:15:00}|49          |13840|\n",
      "+------------------------------------------+------------+-----+\n",
      "only showing top 20 rows\n",
      "\n"
     ]
    },
    {
     "name": "stderr",
     "output_type": "stream",
     "text": [
      "                                                                                \r"
     ]
    },
    {
     "name": "stdout",
     "output_type": "stream",
     "text": [
      "-------------------------------------------\n",
      "Batch: 9\n",
      "-------------------------------------------\n",
      "+------------------------------------------+------------+-----+\n",
      "|window                                    |DOLocationID|count|\n",
      "+------------------------------------------+------------+-----+\n",
      "|{2024-04-08 22:50:00, 2024-04-08 22:55:00}|74          |48214|\n",
      "|{2024-04-08 22:50:00, 2024-04-08 22:55:00}|42          |43011|\n",
      "|{2024-04-08 22:50:00, 2024-04-08 22:55:00}|41          |38226|\n",
      "|{2024-04-08 22:50:00, 2024-04-08 22:55:00}|75          |34857|\n",
      "|{2024-04-08 22:50:00, 2024-04-08 22:55:00}|129         |32427|\n",
      "|{2024-04-08 22:50:00, 2024-04-08 22:55:00}|7           |31456|\n",
      "|{2024-04-08 22:50:00, 2024-04-08 22:55:00}|166         |29782|\n",
      "|{2024-04-08 22:50:00, 2024-04-08 22:55:00}|236         |21615|\n",
      "|{2024-04-08 22:50:00, 2024-04-08 22:55:00}|223         |20704|\n",
      "|{2024-04-08 22:50:00, 2024-04-08 22:55:00}|238         |19997|\n",
      "|{2024-04-08 22:50:00, 2024-04-08 22:55:00}|82          |19684|\n",
      "|{2024-04-08 22:50:00, 2024-04-08 22:55:00}|181         |19394|\n",
      "|{2024-04-08 22:50:00, 2024-04-08 22:55:00}|95          |19241|\n",
      "|{2024-04-08 22:50:00, 2024-04-08 22:55:00}|244         |18130|\n",
      "|{2024-04-08 22:50:00, 2024-04-08 22:55:00}|116         |17139|\n",
      "|{2024-04-08 22:50:00, 2024-04-08 22:55:00}|138         |17009|\n",
      "|{2024-04-08 22:50:00, 2024-04-08 22:55:00}|61          |16565|\n",
      "|{2024-04-08 22:50:00, 2024-04-08 22:55:00}|97          |15894|\n",
      "|{2024-04-08 23:15:00, 2024-04-08 23:20:00}|74          |15186|\n",
      "|{2024-04-08 22:50:00, 2024-04-08 22:55:00}|151         |14041|\n",
      "+------------------------------------------+------------+-----+\n",
      "only showing top 20 rows\n",
      "\n"
     ]
    },
    {
     "name": "stderr",
     "output_type": "stream",
     "text": [
      "                                                                                \r"
     ]
    },
    {
     "name": "stdout",
     "output_type": "stream",
     "text": [
      "-------------------------------------------\n",
      "Batch: 9\n",
      "-------------------------------------------\n",
      "+------------------------------------------+------------+-----+\n",
      "|window                                    |DOLocationID|count|\n",
      "+------------------------------------------+------------+-----+\n",
      "|{2024-04-08 23:10:00, 2024-04-08 23:15:00}|74          |48214|\n",
      "|{2024-04-08 23:10:00, 2024-04-08 23:15:00}|42          |43011|\n",
      "|{2024-04-08 23:10:00, 2024-04-08 23:15:00}|41          |38226|\n",
      "|{2024-04-08 23:10:00, 2024-04-08 23:15:00}|75          |34857|\n",
      "|{2024-04-08 23:10:00, 2024-04-08 23:15:00}|129         |32427|\n",
      "|{2024-04-08 23:10:00, 2024-04-08 23:15:00}|7           |31456|\n",
      "|{2024-04-08 23:10:00, 2024-04-08 23:15:00}|166         |29782|\n",
      "|{2024-04-08 23:10:00, 2024-04-08 23:15:00}|236         |21615|\n",
      "|{2024-04-08 23:10:00, 2024-04-08 23:15:00}|223         |20704|\n",
      "|{2024-04-08 23:10:00, 2024-04-08 23:15:00}|238         |19997|\n",
      "|{2024-04-08 23:10:00, 2024-04-08 23:15:00}|82          |19684|\n",
      "|{2024-04-08 23:10:00, 2024-04-08 23:15:00}|181         |19394|\n",
      "|{2024-04-08 23:10:00, 2024-04-08 23:15:00}|95          |19241|\n",
      "|{2024-04-08 23:10:00, 2024-04-08 23:15:00}|244         |18130|\n",
      "|{2024-04-08 23:10:00, 2024-04-08 23:15:00}|116         |17139|\n",
      "|{2024-04-08 23:10:00, 2024-04-08 23:15:00}|138         |17009|\n",
      "|{2024-04-08 23:10:00, 2024-04-08 23:15:00}|61          |16565|\n",
      "|{2024-04-08 23:10:00, 2024-04-08 23:15:00}|97          |15894|\n",
      "|{2024-04-08 23:15:00, 2024-04-08 23:20:00}|74          |15603|\n",
      "|{2024-04-08 23:10:00, 2024-04-08 23:15:00}|151         |14041|\n",
      "+------------------------------------------+------------+-----+\n",
      "only showing top 20 rows\n",
      "\n"
     ]
    },
    {
     "name": "stderr",
     "output_type": "stream",
     "text": [
      "                                                                                \r"
     ]
    },
    {
     "name": "stdout",
     "output_type": "stream",
     "text": [
      "-------------------------------------------\n",
      "Batch: 10\n",
      "-------------------------------------------\n",
      "+------------------------------------------+------------+-----+\n",
      "|window                                    |DOLocationID|count|\n",
      "+------------------------------------------+------------+-----+\n",
      "|{2024-04-08 22:50:00, 2024-04-08 22:55:00}|74          |48214|\n",
      "|{2024-04-08 22:50:00, 2024-04-08 22:55:00}|42          |43011|\n",
      "|{2024-04-08 22:50:00, 2024-04-08 22:55:00}|41          |38226|\n",
      "|{2024-04-08 22:50:00, 2024-04-08 22:55:00}|75          |34857|\n",
      "|{2024-04-08 22:50:00, 2024-04-08 22:55:00}|129         |32427|\n",
      "|{2024-04-08 22:50:00, 2024-04-08 22:55:00}|7           |31456|\n",
      "|{2024-04-08 22:50:00, 2024-04-08 22:55:00}|166         |29782|\n",
      "|{2024-04-08 22:50:00, 2024-04-08 22:55:00}|236         |21615|\n",
      "|{2024-04-08 22:50:00, 2024-04-08 22:55:00}|223         |20704|\n",
      "|{2024-04-08 22:50:00, 2024-04-08 22:55:00}|238         |19997|\n",
      "|{2024-04-08 22:50:00, 2024-04-08 22:55:00}|82          |19684|\n",
      "|{2024-04-08 22:50:00, 2024-04-08 22:55:00}|181         |19394|\n",
      "|{2024-04-08 22:50:00, 2024-04-08 22:55:00}|95          |19241|\n",
      "|{2024-04-08 22:50:00, 2024-04-08 22:55:00}|244         |18130|\n",
      "|{2024-04-08 22:50:00, 2024-04-08 22:55:00}|116         |17139|\n",
      "|{2024-04-08 22:50:00, 2024-04-08 22:55:00}|138         |17009|\n",
      "|{2024-04-08 23:15:00, 2024-04-08 23:20:00}|74          |16838|\n",
      "|{2024-04-08 22:50:00, 2024-04-08 22:55:00}|61          |16565|\n",
      "|{2024-04-08 22:50:00, 2024-04-08 22:55:00}|97          |15894|\n",
      "|{2024-04-08 23:15:00, 2024-04-08 23:20:00}|42          |14802|\n",
      "+------------------------------------------+------------+-----+\n",
      "only showing top 20 rows\n",
      "\n"
     ]
    },
    {
     "name": "stderr",
     "output_type": "stream",
     "text": [
      "                                                                                \r"
     ]
    },
    {
     "name": "stdout",
     "output_type": "stream",
     "text": [
      "-------------------------------------------\n",
      "Batch: 10\n",
      "-------------------------------------------\n",
      "+------------------------------------------+------------+-----+\n",
      "|window                                    |DOLocationID|count|\n",
      "+------------------------------------------+------------+-----+\n",
      "|{2024-04-08 23:10:00, 2024-04-08 23:15:00}|74          |48214|\n",
      "|{2024-04-08 23:10:00, 2024-04-08 23:15:00}|42          |43011|\n",
      "|{2024-04-08 23:10:00, 2024-04-08 23:15:00}|41          |38226|\n",
      "|{2024-04-08 23:10:00, 2024-04-08 23:15:00}|75          |34857|\n",
      "|{2024-04-08 23:10:00, 2024-04-08 23:15:00}|129         |32427|\n",
      "|{2024-04-08 23:10:00, 2024-04-08 23:15:00}|7           |31456|\n",
      "|{2024-04-08 23:10:00, 2024-04-08 23:15:00}|166         |29782|\n",
      "|{2024-04-08 23:10:00, 2024-04-08 23:15:00}|236         |21615|\n",
      "|{2024-04-08 23:10:00, 2024-04-08 23:15:00}|223         |20704|\n",
      "|{2024-04-08 23:10:00, 2024-04-08 23:15:00}|238         |19997|\n",
      "|{2024-04-08 23:10:00, 2024-04-08 23:15:00}|82          |19684|\n",
      "|{2024-04-08 23:10:00, 2024-04-08 23:15:00}|181         |19394|\n",
      "|{2024-04-08 23:10:00, 2024-04-08 23:15:00}|95          |19241|\n",
      "|{2024-04-08 23:10:00, 2024-04-08 23:15:00}|244         |18130|\n",
      "|{2024-04-08 23:10:00, 2024-04-08 23:15:00}|116         |17139|\n",
      "|{2024-04-08 23:10:00, 2024-04-08 23:15:00}|138         |17009|\n",
      "|{2024-04-08 23:15:00, 2024-04-08 23:20:00}|74          |16965|\n",
      "|{2024-04-08 23:10:00, 2024-04-08 23:15:00}|61          |16565|\n",
      "|{2024-04-08 23:10:00, 2024-04-08 23:15:00}|97          |15894|\n",
      "|{2024-04-08 23:15:00, 2024-04-08 23:20:00}|42          |14937|\n",
      "+------------------------------------------+------------+-----+\n",
      "only showing top 20 rows\n",
      "\n"
     ]
    },
    {
     "name": "stderr",
     "output_type": "stream",
     "text": [
      "                                                                                \r"
     ]
    },
    {
     "name": "stdout",
     "output_type": "stream",
     "text": [
      "flush took 0.01 seconds\n",
      "producer took 37.40 seconds to populate \"green-trips\" topic\n"
     ]
    }
   ],
   "source": [
    "t0 = time.time()\n",
    "\n",
    "topic_name = 'green-trips'\n",
    "\n",
    "for row in df.itertuples(index=False):\n",
    "    # print(f'row: {row}')\n",
    "    row_dict = {col: getattr(row, col) for col in row._fields}\n",
    "    # print(f'row_dict: {row_dict}')\n",
    "    # break\n",
    "\n",
    "    # implement sending the data here\n",
    "    producer.send(topic=topic_name, value=row_dict) # \n",
    "\n",
    "f0 = time.time()\n",
    "producer.flush()\n",
    "f1 = time.time()\n",
    "print(f'flush took {(f1 - f0):.2f} seconds')\n",
    "\n",
    "t1 = time.time()\n",
    "print(f'producer took {(t1 - t0):.2f} seconds to populate \"green-trips\" topic')"
   ]
  },
  {
   "cell_type": "markdown",
   "metadata": {},
   "source": [
    "## Question 5: Sending the Trip Data\n",
    "\n",
    "### Answer 5: `26 seconds`\n",
    "\n",
    "* Create a topic `green-trips` and send the data there\n",
    "* How much time in seconds did it take? (You can round it to a whole number)\n",
    "* Make sure you don't include sleeps in your code\n"
   ]
  },
  {
   "cell_type": "markdown",
   "metadata": {},
   "source": [
    "## Qn 6-7 Creating the PySpark consumer\n",
    "\n",
    "### Import packages"
   ]
  },
  {
   "cell_type": "code",
   "execution_count": 8,
   "metadata": {
    "notebookRunGroups": {
     "groupValue": "2"
    }
   },
   "outputs": [
    {
     "name": "stdout",
     "output_type": "stream",
     "text": [
      "3.5.1\n"
     ]
    }
   ],
   "source": [
    "import os\n",
    "import pyspark\n",
    "from pyspark.sql import SparkSession\n",
    "from pyspark.sql import types as T\n",
    "from pyspark.sql import functions as F\n",
    "\n",
    "print(pyspark.__version__)"
   ]
  },
  {
   "cell_type": "markdown",
   "metadata": {},
   "source": [
    "Now let's read the data with PySpark. \n",
    "\n",
    "Spark needs a library (jar) to be able to connect to Kafka, so we need to tell PySpark that it needs to use it:"
   ]
  },
  {
   "cell_type": "code",
   "execution_count": 9,
   "metadata": {
    "notebookRunGroups": {
     "groupValue": "2"
    }
   },
   "outputs": [],
   "source": [
    "scala_version = '2.12'\n",
    "pyspark_version = pyspark.__version__\n",
    "\n",
    "kafka_jar_package = f'org.apache.spark:spark-sql-kafka-0-10_{scala_version}:{pyspark_version}'\n",
    "\n",
    "# os.environ['PYSPARK_SUBMIT_ARGS'] = '--packages org.apache.spark:spark-sql-kafka-0-10_2.12:3.5.1'\n",
    "\n",
    "spark = SparkSession.builder \\\n",
    "    .appName(\"GreenTripsConsumer\") \\\n",
    "    .master(\"local[*]\") \\\n",
    "    .config(\"spark.executor.memory\", \"4g\") \\\n",
    "    .config(\"spark.driver.memory\", \"4g\") \\\n",
    "    .config(\"spark.jars.packages\", kafka_jar_package) \\\n",
    "    .getOrCreate()   \n"
   ]
  },
  {
   "cell_type": "code",
   "execution_count": 10,
   "metadata": {
    "notebookRunGroups": {
     "groupValue": "2"
    }
   },
   "outputs": [
    {
     "data": {
      "text/html": [
       "\n",
       "            <div>\n",
       "                <p><b>SparkSession - in-memory</b></p>\n",
       "                \n",
       "        <div>\n",
       "            <p><b>SparkContext</b></p>\n",
       "\n",
       "            <p><a href=\"http://172.17.156.62:4040\">Spark UI</a></p>\n",
       "\n",
       "            <dl>\n",
       "              <dt>Version</dt>\n",
       "                <dd><code>v3.5.1</code></dd>\n",
       "              <dt>Master</dt>\n",
       "                <dd><code>local[*]</code></dd>\n",
       "              <dt>AppName</dt>\n",
       "                <dd><code>GreenTripsConsumer</code></dd>\n",
       "            </dl>\n",
       "        </div>\n",
       "        \n",
       "            </div>\n",
       "        "
      ],
      "text/plain": [
       "<pyspark.sql.session.SparkSession at 0x7f07201a1c10>"
      ]
     },
     "execution_count": 10,
     "metadata": {},
     "output_type": "execute_result"
    }
   ],
   "source": [
    "spark"
   ]
  },
  {
   "cell_type": "markdown",
   "metadata": {},
   "source": [
    "Now we can connect to the stream"
   ]
  },
  {
   "cell_type": "code",
   "execution_count": 11,
   "metadata": {
    "notebookRunGroups": {
     "groupValue": "2"
    }
   },
   "outputs": [],
   "source": [
    "# consumer = KafkaConsumer('green-trips')\n",
    "green_stream = spark \\\n",
    "    .readStream \\\n",
    "    .format(\"kafka\") \\\n",
    "    .option(\"kafka.bootstrap.servers\", \"localhost:9092\") \\\n",
    "    .option(\"subscribe\", \"green-trips\") \\\n",
    "    .option(\"startingOffsets\", \"earliest\") \\\n",
    "    .option(\"checkpointLocation\", \"checkpoint\") \\\n",
    "    .load()\n",
    "    \n",
    "# ,broker:29092\n",
    "# green_stream.selectExpr(\"CAST(key AS STRING)\", \"CAST(value AS STRING)\")"
   ]
  },
  {
   "cell_type": "markdown",
   "metadata": {},
   "source": [
    "In order to test that we can consume from the stream, let's see what will be the first record there. \n",
    "\n",
    "In Spark streaming, the stream is represented as a sequence of small batches, each batch being a small RDD (or a small dataframe).\n",
    "\n",
    "So we can execute a function over each mini-batch.\n",
    "Let's run `take(1)` there to see what do we have in the stream:"
   ]
  },
  {
   "cell_type": "code",
   "execution_count": 12,
   "metadata": {
    "notebookRunGroups": {
     "groupValue": "2"
    }
   },
   "outputs": [],
   "source": [
    "# test with mini batch\n",
    "def peek(mini_batch, batch_id):\n",
    "    first_row = mini_batch.take(1)\n",
    "\n",
    "    if first_row:\n",
    "        print(first_row[0])\n"
   ]
  },
  {
   "cell_type": "code",
   "execution_count": 27,
   "metadata": {
    "notebookRunGroups": {
     "groupValue": ""
    }
   },
   "outputs": [
    {
     "name": "stderr",
     "output_type": "stream",
     "text": [
      "24/04/08 23:19:56 WARN ResolveWriteToStream: Temporary checkpoint location created which is deleted normally when the query didn't fail: /tmp/temporary-1724b8c3-4fdf-4c03-8cc5-2c1f225b982a. If it's required to delete it under any circumstances, please set spark.sql.streaming.forceDeleteTempCheckpointLocation to true. Important to know deleting temp checkpoint folder is best effort.\n",
      "24/04/08 23:19:56 WARN ResolveWriteToStream: spark.sql.adaptive.enabled is not supported in streaming DataFrames/Datasets and will be disabled.\n"
     ]
    },
    {
     "name": "stdout",
     "output_type": "stream",
     "text": [
      "Row(key=None, value=bytearray(b'{\"lpep_pickup_datetime\": \"2019-10-01 01:41:39\", \"lpep_dropoff_datetime\": \"2019-10-01 01:45:06\", \"PULocationID\": 82, \"DOLocationID\": 173, \"passenger_count\": 2.0, \"trip_distance\": 0.72, \"tip_amount\": 0.0}'), topic='green-trips', partition=0, offset=0, timestamp=datetime.datetime(2024, 4, 8, 21, 39, 22, 150000), timestampType=0)\n"
     ]
    }
   ],
   "source": [
    "query = green_stream.writeStream.foreachBatch(peek).start()"
   ]
  },
  {
   "cell_type": "markdown",
   "metadata": {},
   "source": [
    "You should see a record like this:\n",
    "\n",
    "```\n",
    "Row(key=None, value=bytearray(b'{\"lpep_pickup_datetime\": \"2019-10-01 00:26:02\", \"lpep_dropoff_datetime\": \"2019-10-01 00:39:58\", \"PULocationID\": 112, \"DOLocationID\": 196, \"passenger_count\": 1.0, \"trip_distance\": 5.88, \"tip_amount\": 0.0}'), topic='green-trips', partition=0, offset=0, timestamp=datetime.datetime(2024, 3, 12, 22, 42, 9, 411000), timestampType=0)\n",
    "```\n",
    "\n",
    "\n",
    "Now let's stop the query, so it doesn't keep consuming messages from the stream"
   ]
  },
  {
   "cell_type": "code",
   "execution_count": null,
   "metadata": {
    "notebookRunGroups": {
     "groupValue": ""
    }
   },
   "outputs": [],
   "source": [
    "query.stop()"
   ]
  },
  {
   "cell_type": "markdown",
   "metadata": {},
   "source": [
    "## Question 6. Parsing the data\n",
    "\n",
    "### Read csv into pyspark dataframe\n",
    "[docs](https://spark.apache.org/docs/latest/api/python/reference/pyspark.pandas/api/pyspark.pandas.read_csv.html)\n",
    "\n",
    "The data is JSON, but currently it's in binary format. We need to parse it and turn it into a streaming dataframe with proper columns\n",
    "\n",
    "### declare pyspark schema\n",
    "\n",
    "Similarly to PySpark, we define the schema"
   ]
  },
  {
   "cell_type": "code",
   "execution_count": 13,
   "metadata": {
    "notebookRunGroups": {
     "groupValue": "12"
    }
   },
   "outputs": [],
   "source": [
    "import pyspark\n",
    "from pyspark.sql import SparkSession\n",
    "from pyspark.sql import types\n",
    "from pyspark.sql import functions as F\n",
    "\n",
    "ps_schema = types.StructType() \\\n",
    "    .add(\"lpep_pickup_datetime\", types.StringType()) \\\n",
    "    .add(\"lpep_dropoff_datetime\", types.StringType()) \\\n",
    "    .add(\"PULocationID\", types.IntegerType()) \\\n",
    "    .add(\"DOLocationID\", types.IntegerType()) \\\n",
    "    .add(\"passenger_count\", types.DoubleType()) \\\n",
    "    .add(\"trip_distance\", types.DoubleType()) \\\n",
    "    .add(\"tip_amount\", types.DoubleType())"
   ]
  },
  {
   "cell_type": "code",
   "execution_count": 28,
   "metadata": {
    "notebookRunGroups": {
     "groupValue": "1"
    }
   },
   "outputs": [
    {
     "name": "stderr",
     "output_type": "stream",
     "text": [
      "24/04/08 23:19:56 WARN AdminClientConfig: These configurations '[key.deserializer, value.deserializer, enable.auto.commit, max.poll.records, auto.offset.reset]' were supplied but are not used yet.\n"
     ]
    }
   ],
   "source": [
    "scala_version = '2.12'\n",
    "pyspark_version = pyspark.__version__\n",
    "\n",
    "kafka_jar_package = f'org.apache.spark:spark-sql-kafka-0-10_{scala_version}:{pyspark_version}'\n",
    "\n",
    "spark = SparkSession.builder \\\n",
    "    .appName(\"GreenTripsConsumer\") \\\n",
    "    .master(\"local[*]\") \\\n",
    "    .config(\"spark.executor.memory\", \"4g\") \\\n",
    "    .config(\"spark.driver.memory\", \"4g\") \\\n",
    "    .config(\"spark.jars.packages\", kafka_jar_package) \\\n",
    "    .getOrCreate()   \n",
    "\n",
    "green_stream = spark \\\n",
    "    .readStream \\\n",
    "    .format(\"kafka\") \\\n",
    "    .option(\"kafka.bootstrap.servers\", \"localhost:9092\") \\\n",
    "    .option(\"subscribe\", \"green-trips\") \\\n",
    "    .option(\"startingOffsets\", \"earliest\") \\\n",
    "    .load()"
   ]
  },
  {
   "cell_type": "markdown",
   "metadata": {},
   "source": [
    "And apply this schema:"
   ]
  },
  {
   "cell_type": "code",
   "execution_count": 29,
   "metadata": {
    "notebookRunGroups": {
     "groupValue": "1"
    }
   },
   "outputs": [
    {
     "name": "stderr",
     "output_type": "stream",
     "text": [
      "                                                                                \r"
     ]
    },
    {
     "name": "stdout",
     "output_type": "stream",
     "text": [
      "-------------------------------------------\n",
      "Batch: 11\n",
      "-------------------------------------------\n",
      "+------------------------------------------+------------+-----+\n",
      "|window                                    |DOLocationID|count|\n",
      "+------------------------------------------+------------+-----+\n",
      "|{2024-04-08 22:50:00, 2024-04-08 22:55:00}|74          |48214|\n",
      "|{2024-04-08 22:50:00, 2024-04-08 22:55:00}|42          |43011|\n",
      "|{2024-04-08 22:50:00, 2024-04-08 22:55:00}|41          |38226|\n",
      "|{2024-04-08 22:50:00, 2024-04-08 22:55:00}|75          |34857|\n",
      "|{2024-04-08 22:50:00, 2024-04-08 22:55:00}|129         |32427|\n",
      "|{2024-04-08 22:50:00, 2024-04-08 22:55:00}|7           |31456|\n",
      "|{2024-04-08 22:50:00, 2024-04-08 22:55:00}|166         |29782|\n",
      "|{2024-04-08 22:50:00, 2024-04-08 22:55:00}|236         |21615|\n",
      "|{2024-04-08 22:50:00, 2024-04-08 22:55:00}|223         |20704|\n",
      "|{2024-04-08 22:50:00, 2024-04-08 22:55:00}|238         |19997|\n",
      "|{2024-04-08 22:50:00, 2024-04-08 22:55:00}|82          |19684|\n",
      "|{2024-04-08 22:50:00, 2024-04-08 22:55:00}|181         |19394|\n",
      "|{2024-04-08 22:50:00, 2024-04-08 22:55:00}|95          |19241|\n",
      "|{2024-04-08 22:50:00, 2024-04-08 22:55:00}|244         |18130|\n",
      "|{2024-04-08 23:15:00, 2024-04-08 23:20:00}|74          |17345|\n",
      "|{2024-04-08 22:50:00, 2024-04-08 22:55:00}|116         |17139|\n",
      "|{2024-04-08 22:50:00, 2024-04-08 22:55:00}|138         |17009|\n",
      "|{2024-04-08 22:50:00, 2024-04-08 22:55:00}|61          |16565|\n",
      "|{2024-04-08 22:50:00, 2024-04-08 22:55:00}|97          |15894|\n",
      "|{2024-04-08 23:15:00, 2024-04-08 23:20:00}|42          |15450|\n",
      "+------------------------------------------+------------+-----+\n",
      "only showing top 20 rows\n",
      "\n"
     ]
    },
    {
     "name": "stderr",
     "output_type": "stream",
     "text": [
      "                                                                                \r"
     ]
    },
    {
     "name": "stdout",
     "output_type": "stream",
     "text": [
      "-------------------------------------------\n",
      "Batch: 11\n",
      "-------------------------------------------\n",
      "+------------------------------------------+------------+-----+\n",
      "|window                                    |DOLocationID|count|\n",
      "+------------------------------------------+------------+-----+\n",
      "|{2024-04-08 23:10:00, 2024-04-08 23:15:00}|74          |48214|\n",
      "|{2024-04-08 23:10:00, 2024-04-08 23:15:00}|42          |43011|\n",
      "|{2024-04-08 23:10:00, 2024-04-08 23:15:00}|41          |38226|\n",
      "|{2024-04-08 23:10:00, 2024-04-08 23:15:00}|75          |34857|\n",
      "|{2024-04-08 23:10:00, 2024-04-08 23:15:00}|129         |32427|\n",
      "|{2024-04-08 23:10:00, 2024-04-08 23:15:00}|7           |31456|\n",
      "|{2024-04-08 23:10:00, 2024-04-08 23:15:00}|166         |29782|\n",
      "|{2024-04-08 23:10:00, 2024-04-08 23:15:00}|236         |21615|\n",
      "|{2024-04-08 23:10:00, 2024-04-08 23:15:00}|223         |20704|\n",
      "|{2024-04-08 23:10:00, 2024-04-08 23:15:00}|238         |19997|\n",
      "|{2024-04-08 23:10:00, 2024-04-08 23:15:00}|82          |19684|\n",
      "|{2024-04-08 23:10:00, 2024-04-08 23:15:00}|181         |19394|\n",
      "|{2024-04-08 23:10:00, 2024-04-08 23:15:00}|95          |19241|\n",
      "|{2024-04-08 23:10:00, 2024-04-08 23:15:00}|244         |18130|\n",
      "|{2024-04-08 23:15:00, 2024-04-08 23:20:00}|74          |17447|\n",
      "|{2024-04-08 23:10:00, 2024-04-08 23:15:00}|116         |17139|\n",
      "|{2024-04-08 23:10:00, 2024-04-08 23:15:00}|138         |17009|\n",
      "|{2024-04-08 23:10:00, 2024-04-08 23:15:00}|61          |16565|\n",
      "|{2024-04-08 23:10:00, 2024-04-08 23:15:00}|97          |15894|\n",
      "|{2024-04-08 23:15:00, 2024-04-08 23:20:00}|42          |15564|\n",
      "+------------------------------------------+------------+-----+\n",
      "only showing top 20 rows\n",
      "\n"
     ]
    },
    {
     "name": "stderr",
     "output_type": "stream",
     "text": [
      "                                                                                \r"
     ]
    },
    {
     "name": "stdout",
     "output_type": "stream",
     "text": [
      "-------------------------------------------\n",
      "Batch: 12\n",
      "-------------------------------------------\n",
      "+------------------------------------------+------------+-----+\n",
      "|window                                    |DOLocationID|count|\n",
      "+------------------------------------------+------------+-----+\n",
      "|{2024-04-08 22:50:00, 2024-04-08 22:55:00}|74          |48214|\n",
      "|{2024-04-08 22:50:00, 2024-04-08 22:55:00}|42          |43011|\n",
      "|{2024-04-08 22:50:00, 2024-04-08 22:55:00}|41          |38226|\n",
      "|{2024-04-08 22:50:00, 2024-04-08 22:55:00}|75          |34857|\n",
      "|{2024-04-08 22:50:00, 2024-04-08 22:55:00}|129         |32427|\n",
      "|{2024-04-08 22:50:00, 2024-04-08 22:55:00}|7           |31456|\n",
      "|{2024-04-08 22:50:00, 2024-04-08 22:55:00}|166         |29782|\n",
      "|{2024-04-08 22:50:00, 2024-04-08 22:55:00}|236         |21615|\n",
      "|{2024-04-08 22:50:00, 2024-04-08 22:55:00}|223         |20704|\n",
      "|{2024-04-08 22:50:00, 2024-04-08 22:55:00}|238         |19997|\n",
      "|{2024-04-08 22:50:00, 2024-04-08 22:55:00}|82          |19684|\n",
      "|{2024-04-08 22:50:00, 2024-04-08 22:55:00}|181         |19394|\n",
      "|{2024-04-08 22:50:00, 2024-04-08 22:55:00}|95          |19241|\n",
      "|{2024-04-08 22:50:00, 2024-04-08 22:55:00}|244         |18130|\n",
      "|{2024-04-08 23:15:00, 2024-04-08 23:20:00}|74          |17741|\n",
      "|{2024-04-08 22:50:00, 2024-04-08 22:55:00}|116         |17139|\n",
      "|{2024-04-08 22:50:00, 2024-04-08 22:55:00}|138         |17009|\n",
      "|{2024-04-08 22:50:00, 2024-04-08 22:55:00}|61          |16565|\n",
      "|{2024-04-08 23:15:00, 2024-04-08 23:20:00}|42          |15942|\n",
      "|{2024-04-08 22:50:00, 2024-04-08 22:55:00}|97          |15894|\n",
      "+------------------------------------------+------------+-----+\n",
      "only showing top 20 rows\n",
      "\n"
     ]
    },
    {
     "name": "stderr",
     "output_type": "stream",
     "text": [
      "                                                                                \r"
     ]
    },
    {
     "name": "stdout",
     "output_type": "stream",
     "text": [
      "-------------------------------------------\n",
      "Batch: 12\n",
      "-------------------------------------------\n",
      "+------------------------------------------+------------+-----+\n",
      "|window                                    |DOLocationID|count|\n",
      "+------------------------------------------+------------+-----+\n",
      "|{2024-04-08 23:10:00, 2024-04-08 23:15:00}|74          |48214|\n",
      "|{2024-04-08 23:10:00, 2024-04-08 23:15:00}|42          |43011|\n",
      "|{2024-04-08 23:10:00, 2024-04-08 23:15:00}|41          |38226|\n",
      "|{2024-04-08 23:10:00, 2024-04-08 23:15:00}|75          |34857|\n",
      "|{2024-04-08 23:10:00, 2024-04-08 23:15:00}|129         |32427|\n",
      "|{2024-04-08 23:10:00, 2024-04-08 23:15:00}|7           |31456|\n",
      "|{2024-04-08 23:10:00, 2024-04-08 23:15:00}|166         |29782|\n",
      "|{2024-04-08 23:10:00, 2024-04-08 23:15:00}|236         |21615|\n",
      "|{2024-04-08 23:10:00, 2024-04-08 23:15:00}|223         |20704|\n",
      "|{2024-04-08 23:10:00, 2024-04-08 23:15:00}|238         |19997|\n",
      "|{2024-04-08 23:10:00, 2024-04-08 23:15:00}|82          |19684|\n",
      "|{2024-04-08 23:10:00, 2024-04-08 23:15:00}|181         |19394|\n",
      "|{2024-04-08 23:10:00, 2024-04-08 23:15:00}|95          |19241|\n",
      "|{2024-04-08 23:10:00, 2024-04-08 23:15:00}|244         |18130|\n",
      "|{2024-04-08 23:15:00, 2024-04-08 23:20:00}|74          |17741|\n",
      "|{2024-04-08 23:10:00, 2024-04-08 23:15:00}|116         |17139|\n",
      "|{2024-04-08 23:10:00, 2024-04-08 23:15:00}|138         |17009|\n",
      "|{2024-04-08 23:10:00, 2024-04-08 23:15:00}|61          |16565|\n",
      "|{2024-04-08 23:15:00, 2024-04-08 23:20:00}|42          |15942|\n",
      "|{2024-04-08 23:10:00, 2024-04-08 23:15:00}|97          |15894|\n",
      "+------------------------------------------+------------+-----+\n",
      "only showing top 20 rows\n",
      "\n"
     ]
    }
   ],
   "source": [
    "green_stream = green_stream \\\n",
    "  .select(F.from_json(F.col(\"value\").cast('STRING'), ps_schema).alias(\"data\")) \\\n",
    "  .select(\"data.*\")"
   ]
  },
  {
   "cell_type": "code",
   "execution_count": 30,
   "metadata": {
    "notebookRunGroups": {
     "groupValue": "1"
    }
   },
   "outputs": [
    {
     "name": "stderr",
     "output_type": "stream",
     "text": [
      "24/04/08 23:20:05 WARN ResolveWriteToStream: Temporary checkpoint location created which is deleted normally when the query didn't fail: /tmp/temporary-55a6810a-f369-4839-8f93-93f067c3ce12. If it's required to delete it under any circumstances, please set spark.sql.streaming.forceDeleteTempCheckpointLocation to true. Important to know deleting temp checkpoint folder is best effort.\n",
      "24/04/08 23:20:05 WARN ResolveWriteToStream: spark.sql.adaptive.enabled is not supported in streaming DataFrames/Datasets and will be disabled.\n",
      "24/04/08 23:20:05 WARN AdminClientConfig: These configurations '[key.deserializer, value.deserializer, enable.auto.commit, max.poll.records, auto.offset.reset]' were supplied but are not used yet.\n",
      "                                                                                \r"
     ]
    },
    {
     "name": "stdout",
     "output_type": "stream",
     "text": [
      "-------------------------------------------\n",
      "Batch: 0\n",
      "-------------------------------------------\n",
      "+--------------------+---------------------+------------+------------+---------------+-------------+----------+\n",
      "|lpep_pickup_datetime|lpep_dropoff_datetime|PULocationID|DOLocationID|passenger_count|trip_distance|tip_amount|\n",
      "+--------------------+---------------------+------------+------------+---------------+-------------+----------+\n",
      "|2019-10-01 01:41:39 |2019-10-01 01:45:06  |82          |173         |2.0            |0.72         |0.0       |\n",
      "|2019-10-01 01:16:30 |2019-10-01 01:22:42  |82          |83          |1.0            |1.27         |1.56      |\n",
      "|2019-10-01 01:03:24 |2019-10-01 01:19:34  |75          |244         |1.0            |4.05         |0.0       |\n",
      "|2019-10-01 01:26:12 |2019-10-01 01:34:34  |260         |157         |2.0            |1.43         |0.0       |\n",
      "|2019-10-01 01:25:27 |2019-10-01 01:41:16  |168         |250         |1.0            |6.16         |4.16      |\n",
      "|2019-10-01 01:19:41 |2019-10-01 01:31:19  |7           |226         |5.0            |2.52         |0.0       |\n",
      "|2019-10-01 01:00:56 |2019-10-01 01:19:12  |82          |179         |1.0            |4.94         |0.0       |\n",
      "|2019-10-01 01:22:03 |2019-10-02 01:01:18  |188         |61          |5.0            |2.78         |0.0       |\n",
      "|2019-10-01 06:58:06 |2019-10-01 07:18:48  |74          |74          |1.0            |0.48         |0.0       |\n",
      "|2019-10-01 07:23:01 |2019-10-01 07:38:03  |74          |75          |1.0            |0.61         |0.0       |\n",
      "|2019-10-01 01:02:21 |2019-10-01 01:09:46  |82          |129         |1.0            |1.01         |1.56      |\n",
      "|2019-10-01 01:23:02 |2019-10-01 01:30:37  |129         |157         |1.0            |1.44         |0.0       |\n",
      "|2019-10-01 01:22:48 |2019-10-01 01:28:32  |260         |226         |1.0            |0.88         |0.0       |\n",
      "|2019-10-01 01:36:51 |2019-10-01 01:44:32  |260         |7           |1.0            |1.7          |2.64      |\n",
      "|2019-10-01 01:11:00 |2019-10-01 02:14:45  |244         |187         |1.0            |28.21        |0.0       |\n",
      "|2019-10-01 01:26:23 |2019-10-01 01:41:24  |80          |233         |1.0            |5.52         |0.0       |\n",
      "|2019-10-01 01:03:32 |2019-10-01 01:05:56  |75          |74          |1.0            |1.04         |0.0       |\n",
      "|2019-10-01 01:28:34 |2019-10-01 01:42:09  |75          |47          |1.0            |4.17         |0.0       |\n",
      "|2019-10-01 01:38:26 |2019-10-01 01:47:35  |179         |223         |1.0            |1.07         |0.0       |\n",
      "|2019-10-01 01:27:08 |2019-10-01 01:43:26  |256         |198         |1.0            |4.13         |0.0       |\n",
      "+--------------------+---------------------+------------+------------+---------------+-------------+----------+\n",
      "only showing top 20 rows\n",
      "\n"
     ]
    },
    {
     "name": "stderr",
     "output_type": "stream",
     "text": [
      "ERROR:root:KeyboardInterrupt while sending command.\n",
      "Traceback (most recent call last):\n",
      "  File \"/home/ellabelle/spark/spark-3.5.1-bin-hadoop3/python/lib/py4j-0.10.9.7-src.zip/py4j/java_gateway.py\", line 1038, in send_command\n",
      "    response = connection.send_command(command)\n",
      "               ^^^^^^^^^^^^^^^^^^^^^^^^^^^^^^^^\n",
      "  File \"/home/ellabelle/spark/spark-3.5.1-bin-hadoop3/python/lib/py4j-0.10.9.7-src.zip/py4j/clientserver.py\", line 511, in send_command\n",
      "    answer = smart_decode(self.stream.readline()[:-1])\n",
      "                          ^^^^^^^^^^^^^^^^^^^^^^\n",
      "  File \"/home/ellabelle/micromamba/envs/newzoom/lib/python3.11/socket.py\", line 706, in readinto\n",
      "    return self._sock.recv_into(b)\n",
      "           ^^^^^^^^^^^^^^^^^^^^^^^\n",
      "KeyboardInterrupt\n"
     ]
    },
    {
     "ename": "KeyboardInterrupt",
     "evalue": "",
     "output_type": "error",
     "traceback": [
      "\u001b[0;31m---------------------------------------------------------------------------\u001b[0m",
      "\u001b[0;31mKeyboardInterrupt\u001b[0m                         Traceback (most recent call last)",
      "Cell \u001b[0;32mIn[30], line 8\u001b[0m\n\u001b[1;32m      1\u001b[0m query \u001b[38;5;241m=\u001b[39m green_stream \\\n\u001b[1;32m      2\u001b[0m     \u001b[38;5;241m.\u001b[39mwriteStream \\\n\u001b[1;32m      3\u001b[0m     \u001b[38;5;241m.\u001b[39moutputMode(\u001b[38;5;124m\"\u001b[39m\u001b[38;5;124mappend\u001b[39m\u001b[38;5;124m\"\u001b[39m) \\\n\u001b[1;32m      4\u001b[0m     \u001b[38;5;241m.\u001b[39mformat(\u001b[38;5;124m\"\u001b[39m\u001b[38;5;124mconsole\u001b[39m\u001b[38;5;124m\"\u001b[39m) \\\n\u001b[1;32m      5\u001b[0m     \u001b[38;5;241m.\u001b[39moption(\u001b[38;5;124m\"\u001b[39m\u001b[38;5;124mtruncate\u001b[39m\u001b[38;5;124m\"\u001b[39m, \u001b[38;5;124m\"\u001b[39m\u001b[38;5;124mfalse\u001b[39m\u001b[38;5;124m\"\u001b[39m) \\\n\u001b[1;32m      6\u001b[0m     \u001b[38;5;241m.\u001b[39mstart()\n\u001b[0;32m----> 8\u001b[0m \u001b[43mquery\u001b[49m\u001b[38;5;241;43m.\u001b[39;49m\u001b[43mawaitTermination\u001b[49m\u001b[43m(\u001b[49m\u001b[43m)\u001b[49m\n\u001b[1;32m      9\u001b[0m spark\u001b[38;5;241m.\u001b[39mstop()\n",
      "File \u001b[0;32m~/spark/spark-3.5.1-bin-hadoop3/python/pyspark/sql/streaming/query.py:221\u001b[0m, in \u001b[0;36mStreamingQuery.awaitTermination\u001b[0;34m(self, timeout)\u001b[0m\n\u001b[1;32m    219\u001b[0m     \u001b[38;5;28;01mreturn\u001b[39;00m \u001b[38;5;28mself\u001b[39m\u001b[38;5;241m.\u001b[39m_jsq\u001b[38;5;241m.\u001b[39mawaitTermination(\u001b[38;5;28mint\u001b[39m(timeout \u001b[38;5;241m*\u001b[39m \u001b[38;5;241m1000\u001b[39m))\n\u001b[1;32m    220\u001b[0m \u001b[38;5;28;01melse\u001b[39;00m:\n\u001b[0;32m--> 221\u001b[0m     \u001b[38;5;28;01mreturn\u001b[39;00m \u001b[38;5;28;43mself\u001b[39;49m\u001b[38;5;241;43m.\u001b[39;49m\u001b[43m_jsq\u001b[49m\u001b[38;5;241;43m.\u001b[39;49m\u001b[43mawaitTermination\u001b[49m\u001b[43m(\u001b[49m\u001b[43m)\u001b[49m\n",
      "File \u001b[0;32m~/spark/spark-3.5.1-bin-hadoop3/python/lib/py4j-0.10.9.7-src.zip/py4j/java_gateway.py:1321\u001b[0m, in \u001b[0;36mJavaMember.__call__\u001b[0;34m(self, *args)\u001b[0m\n\u001b[1;32m   1314\u001b[0m args_command, temp_args \u001b[38;5;241m=\u001b[39m \u001b[38;5;28mself\u001b[39m\u001b[38;5;241m.\u001b[39m_build_args(\u001b[38;5;241m*\u001b[39margs)\n\u001b[1;32m   1316\u001b[0m command \u001b[38;5;241m=\u001b[39m proto\u001b[38;5;241m.\u001b[39mCALL_COMMAND_NAME \u001b[38;5;241m+\u001b[39m\\\n\u001b[1;32m   1317\u001b[0m     \u001b[38;5;28mself\u001b[39m\u001b[38;5;241m.\u001b[39mcommand_header \u001b[38;5;241m+\u001b[39m\\\n\u001b[1;32m   1318\u001b[0m     args_command \u001b[38;5;241m+\u001b[39m\\\n\u001b[1;32m   1319\u001b[0m     proto\u001b[38;5;241m.\u001b[39mEND_COMMAND_PART\n\u001b[0;32m-> 1321\u001b[0m answer \u001b[38;5;241m=\u001b[39m \u001b[38;5;28;43mself\u001b[39;49m\u001b[38;5;241;43m.\u001b[39;49m\u001b[43mgateway_client\u001b[49m\u001b[38;5;241;43m.\u001b[39;49m\u001b[43msend_command\u001b[49m\u001b[43m(\u001b[49m\u001b[43mcommand\u001b[49m\u001b[43m)\u001b[49m\n\u001b[1;32m   1322\u001b[0m return_value \u001b[38;5;241m=\u001b[39m get_return_value(\n\u001b[1;32m   1323\u001b[0m     answer, \u001b[38;5;28mself\u001b[39m\u001b[38;5;241m.\u001b[39mgateway_client, \u001b[38;5;28mself\u001b[39m\u001b[38;5;241m.\u001b[39mtarget_id, \u001b[38;5;28mself\u001b[39m\u001b[38;5;241m.\u001b[39mname)\n\u001b[1;32m   1325\u001b[0m \u001b[38;5;28;01mfor\u001b[39;00m temp_arg \u001b[38;5;129;01min\u001b[39;00m temp_args:\n",
      "File \u001b[0;32m~/spark/spark-3.5.1-bin-hadoop3/python/lib/py4j-0.10.9.7-src.zip/py4j/java_gateway.py:1038\u001b[0m, in \u001b[0;36mGatewayClient.send_command\u001b[0;34m(self, command, retry, binary)\u001b[0m\n\u001b[1;32m   1036\u001b[0m connection \u001b[38;5;241m=\u001b[39m \u001b[38;5;28mself\u001b[39m\u001b[38;5;241m.\u001b[39m_get_connection()\n\u001b[1;32m   1037\u001b[0m \u001b[38;5;28;01mtry\u001b[39;00m:\n\u001b[0;32m-> 1038\u001b[0m     response \u001b[38;5;241m=\u001b[39m \u001b[43mconnection\u001b[49m\u001b[38;5;241;43m.\u001b[39;49m\u001b[43msend_command\u001b[49m\u001b[43m(\u001b[49m\u001b[43mcommand\u001b[49m\u001b[43m)\u001b[49m\n\u001b[1;32m   1039\u001b[0m     \u001b[38;5;28;01mif\u001b[39;00m binary:\n\u001b[1;32m   1040\u001b[0m         \u001b[38;5;28;01mreturn\u001b[39;00m response, \u001b[38;5;28mself\u001b[39m\u001b[38;5;241m.\u001b[39m_create_connection_guard(connection)\n",
      "File \u001b[0;32m~/spark/spark-3.5.1-bin-hadoop3/python/lib/py4j-0.10.9.7-src.zip/py4j/clientserver.py:511\u001b[0m, in \u001b[0;36mClientServerConnection.send_command\u001b[0;34m(self, command)\u001b[0m\n\u001b[1;32m    509\u001b[0m \u001b[38;5;28;01mtry\u001b[39;00m:\n\u001b[1;32m    510\u001b[0m     \u001b[38;5;28;01mwhile\u001b[39;00m \u001b[38;5;28;01mTrue\u001b[39;00m:\n\u001b[0;32m--> 511\u001b[0m         answer \u001b[38;5;241m=\u001b[39m smart_decode(\u001b[38;5;28mself\u001b[39m\u001b[38;5;241m.\u001b[39mstream\u001b[38;5;241m.\u001b[39mreadline()[:\u001b[38;5;241m-\u001b[39m\u001b[38;5;241m1\u001b[39m])\n\u001b[1;32m    512\u001b[0m         logger\u001b[38;5;241m.\u001b[39mdebug(\u001b[38;5;124m\"\u001b[39m\u001b[38;5;124mAnswer received: \u001b[39m\u001b[38;5;132;01m{0}\u001b[39;00m\u001b[38;5;124m\"\u001b[39m\u001b[38;5;241m.\u001b[39mformat(answer))\n\u001b[1;32m    513\u001b[0m         \u001b[38;5;66;03m# Happens when a the other end is dead. There might be an empty\u001b[39;00m\n\u001b[1;32m    514\u001b[0m         \u001b[38;5;66;03m# answer before the socket raises an error.\u001b[39;00m\n",
      "File \u001b[0;32m~/micromamba/envs/newzoom/lib/python3.11/socket.py:706\u001b[0m, in \u001b[0;36mSocketIO.readinto\u001b[0;34m(self, b)\u001b[0m\n\u001b[1;32m    704\u001b[0m \u001b[38;5;28;01mwhile\u001b[39;00m \u001b[38;5;28;01mTrue\u001b[39;00m:\n\u001b[1;32m    705\u001b[0m     \u001b[38;5;28;01mtry\u001b[39;00m:\n\u001b[0;32m--> 706\u001b[0m         \u001b[38;5;28;01mreturn\u001b[39;00m \u001b[38;5;28;43mself\u001b[39;49m\u001b[38;5;241;43m.\u001b[39;49m\u001b[43m_sock\u001b[49m\u001b[38;5;241;43m.\u001b[39;49m\u001b[43mrecv_into\u001b[49m\u001b[43m(\u001b[49m\u001b[43mb\u001b[49m\u001b[43m)\u001b[49m\n\u001b[1;32m    707\u001b[0m     \u001b[38;5;28;01mexcept\u001b[39;00m timeout:\n\u001b[1;32m    708\u001b[0m         \u001b[38;5;28mself\u001b[39m\u001b[38;5;241m.\u001b[39m_timeout_occurred \u001b[38;5;241m=\u001b[39m \u001b[38;5;28;01mTrue\u001b[39;00m\n",
      "\u001b[0;31mKeyboardInterrupt\u001b[0m: "
     ]
    }
   ],
   "source": [
    "query = green_stream \\\n",
    "    .writeStream \\\n",
    "    .outputMode(\"append\") \\\n",
    "    .format(\"console\") \\\n",
    "    .option(\"truncate\", \"false\") \\\n",
    "    .start()\n",
    "\n",
    "query.awaitTermination()\n",
    "spark.stop()"
   ]
  },
  {
   "cell_type": "markdown",
   "metadata": {},
   "source": [
    "How does the record look after parsing? Copy the output \n",
    "\n",
    "### Answer 6: \n",
    "\n",
    "```bash\n",
    "-------------------------------------------                                     \n",
    "Batch: 0\n",
    "-------------------------------------------\n",
    "+--------------------+---------------------+------------+------------+---------------+-------------+----------+\n",
    "|lpep_pickup_datetime|lpep_dropoff_datetime|PULocationID|DOLocationID|passenger_count|trip_distance|tip_amount|\n",
    "+--------------------+---------------------+------------+------------+---------------+-------------+----------+\n",
    "|2019-10-01 01:41:39 |2019-10-01 01:45:06  |82          |173         |2.0            |0.72         |0.0       |\n",
    "|2019-10-01 01:16:30 |2019-10-01 01:22:42  |82          |83          |1.0            |1.27         |1.56      |\n",
    "|2019-10-01 01:03:24 |2019-10-01 01:19:34  |75          |244         |1.0            |4.05         |0.0       |\n",
    "|2019-10-01 01:26:12 |2019-10-01 01:34:34  |260         |157         |2.0            |1.43         |0.0       |\n",
    "|2019-10-01 01:25:27 |2019-10-01 01:41:16  |168         |250         |1.0            |6.16         |4.16      |\n",
    "|2019-10-01 01:19:41 |2019-10-01 01:31:19  |7           |226         |5.0            |2.52         |0.0       |\n",
    "|2019-10-01 01:00:56 |2019-10-01 01:19:12  |82          |179         |1.0            |4.94         |0.0       |\n",
    "|2019-10-01 01:22:03 |2019-10-02 01:01:18  |188         |61          |5.0            |2.78         |0.0       |\n",
    "|2019-10-01 06:58:06 |2019-10-01 07:18:48  |74          |74          |1.0            |0.48         |0.0       |\n",
    "|2019-10-01 07:23:01 |2019-10-01 07:38:03  |74          |75          |1.0            |0.61         |0.0       |\n",
    "|2019-10-01 01:02:21 |2019-10-01 01:09:46  |82          |129         |1.0            |1.01         |1.56      |\n",
    "|2019-10-01 01:23:02 |2019-10-01 01:30:37  |129         |157         |1.0            |1.44         |0.0       |\n",
    "|2019-10-01 01:22:48 |2019-10-01 01:28:32  |260         |226         |1.0            |0.88         |0.0       |\n",
    "|2019-10-01 01:36:51 |2019-10-01 01:44:32  |260         |7           |1.0            |1.7          |2.64      |\n",
    "|2019-10-01 01:11:00 |2019-10-01 02:14:45  |244         |187         |1.0            |28.21        |0.0       |\n",
    "|2019-10-01 01:26:23 |2019-10-01 01:41:24  |80          |233         |1.0            |5.52         |0.0       |\n",
    "|2019-10-01 01:03:32 |2019-10-01 01:05:56  |75          |74          |1.0            |1.04         |0.0       |\n",
    "|2019-10-01 01:28:34 |2019-10-01 01:42:09  |75          |47          |1.0            |4.17         |0.0       |\n",
    "|2019-10-01 01:38:26 |2019-10-01 01:47:35  |179         |223         |1.0            |1.07         |0.0       |\n",
    "|2019-10-01 01:27:08 |2019-10-01 01:43:26  |256         |198         |1.0            |4.13         |0.0       |\n",
    "+--------------------+---------------------+------------+------------+---------------+-------------+----------+\n",
    "only showing top 20 rows\n",
    "```"
   ]
  },
  {
   "cell_type": "markdown",
   "metadata": {},
   "source": [
    "### Question 7: Most popular destination\n",
    "\n",
    "Now let's finally do some streaming analytics. We will see what's the most popular destination currently  based on our stream of data (which ideally we should  have sent with delays like we did in workshop 2)\n",
    "\n",
    "\n",
    "This is how you can do it:\n",
    "\n",
    "* Add a column \"timestamp\" using the `current_timestamp` function\n",
    "* Group by:\n",
    "  * 5 minutes window based on the timestamp column (`F.window(col(\"timestamp\"), \"5 minutes\")`)\n",
    "  * `\"DOLocationID\"`\n",
    "* Order by count\n",
    "\n",
    "You can print the output to the console using this code"
   ]
  },
  {
   "cell_type": "code",
   "execution_count": 14,
   "metadata": {
    "notebookRunGroups": {
     "groupValue": "2"
    }
   },
   "outputs": [
    {
     "name": "stderr",
     "output_type": "stream",
     "text": [
      "24/04/08 23:13:28 WARN ResolveWriteToStream: Temporary checkpoint location created which is deleted normally when the query didn't fail: /tmp/temporary-9e31171e-24df-449d-a227-fc7350419599. If it's required to delete it under any circumstances, please set spark.sql.streaming.forceDeleteTempCheckpointLocation to true. Important to know deleting temp checkpoint folder is best effort.\n",
      "24/04/08 23:13:28 WARN ResolveWriteToStream: spark.sql.adaptive.enabled is not supported in streaming DataFrames/Datasets and will be disabled.\n",
      "24/04/08 23:13:28 WARN AdminClientConfig: These configurations '[key.deserializer, value.deserializer, enable.auto.commit, max.poll.records, auto.offset.reset]' were supplied but are not used yet.\n",
      "                                                                                \r"
     ]
    },
    {
     "name": "stdout",
     "output_type": "stream",
     "text": [
      "-------------------------------------------\n",
      "Batch: 0\n",
      "-------------------------------------------\n",
      "+------------------------------------------+------------+-----+\n",
      "|window                                    |DOLocationID|count|\n",
      "+------------------------------------------+------------+-----+\n",
      "|{2024-04-08 23:10:00, 2024-04-08 23:15:00}|74          |48214|\n",
      "|{2024-04-08 23:10:00, 2024-04-08 23:15:00}|42          |43011|\n",
      "|{2024-04-08 23:10:00, 2024-04-08 23:15:00}|41          |38226|\n",
      "|{2024-04-08 23:10:00, 2024-04-08 23:15:00}|75          |34857|\n",
      "|{2024-04-08 23:10:00, 2024-04-08 23:15:00}|129         |32427|\n",
      "|{2024-04-08 23:10:00, 2024-04-08 23:15:00}|7           |31456|\n",
      "|{2024-04-08 23:10:00, 2024-04-08 23:15:00}|166         |29782|\n",
      "|{2024-04-08 23:10:00, 2024-04-08 23:15:00}|236         |21615|\n",
      "|{2024-04-08 23:10:00, 2024-04-08 23:15:00}|223         |20704|\n",
      "|{2024-04-08 23:10:00, 2024-04-08 23:15:00}|238         |19997|\n",
      "|{2024-04-08 23:10:00, 2024-04-08 23:15:00}|82          |19684|\n",
      "|{2024-04-08 23:10:00, 2024-04-08 23:15:00}|181         |19394|\n",
      "|{2024-04-08 23:10:00, 2024-04-08 23:15:00}|95          |19241|\n",
      "|{2024-04-08 23:10:00, 2024-04-08 23:15:00}|244         |18130|\n",
      "|{2024-04-08 23:10:00, 2024-04-08 23:15:00}|116         |17139|\n",
      "|{2024-04-08 23:10:00, 2024-04-08 23:15:00}|138         |17009|\n",
      "|{2024-04-08 23:10:00, 2024-04-08 23:15:00}|61          |16565|\n",
      "|{2024-04-08 23:10:00, 2024-04-08 23:15:00}|97          |15894|\n",
      "|{2024-04-08 23:10:00, 2024-04-08 23:15:00}|151         |14041|\n",
      "|{2024-04-08 23:10:00, 2024-04-08 23:15:00}|49          |13840|\n",
      "+------------------------------------------+------------+-----+\n",
      "only showing top 20 rows\n",
      "\n"
     ]
    },
    {
     "name": "stderr",
     "output_type": "stream",
     "text": [
      "ERROR:root:KeyboardInterrupt while sending command.\n",
      "Traceback (most recent call last):\n",
      "  File \"/home/ellabelle/spark/spark-3.5.1-bin-hadoop3/python/lib/py4j-0.10.9.7-src.zip/py4j/java_gateway.py\", line 1038, in send_command\n",
      "    response = connection.send_command(command)\n",
      "               ^^^^^^^^^^^^^^^^^^^^^^^^^^^^^^^^\n",
      "  File \"/home/ellabelle/spark/spark-3.5.1-bin-hadoop3/python/lib/py4j-0.10.9.7-src.zip/py4j/clientserver.py\", line 511, in send_command\n",
      "    answer = smart_decode(self.stream.readline()[:-1])\n",
      "                          ^^^^^^^^^^^^^^^^^^^^^^\n",
      "  File \"/home/ellabelle/micromamba/envs/newzoom/lib/python3.11/socket.py\", line 706, in readinto\n",
      "    return self._sock.recv_into(b)\n",
      "           ^^^^^^^^^^^^^^^^^^^^^^^\n",
      "KeyboardInterrupt\n"
     ]
    },
    {
     "ename": "KeyboardInterrupt",
     "evalue": "",
     "output_type": "error",
     "traceback": [
      "\u001b[0;31m---------------------------------------------------------------------------\u001b[0m",
      "\u001b[0;31mKeyboardInterrupt\u001b[0m                         Traceback (most recent call last)",
      "Cell \u001b[0;32mIn[14], line 17\u001b[0m\n\u001b[1;32m      1\u001b[0m popular_destinations \u001b[38;5;241m=\u001b[39m green_stream \\\n\u001b[1;32m      2\u001b[0m     \u001b[38;5;241m.\u001b[39mselect(F\u001b[38;5;241m.\u001b[39mfrom_json(F\u001b[38;5;241m.\u001b[39mcol(\u001b[38;5;124m\"\u001b[39m\u001b[38;5;124mvalue\u001b[39m\u001b[38;5;124m\"\u001b[39m)\u001b[38;5;241m.\u001b[39mcast(\u001b[38;5;124m'\u001b[39m\u001b[38;5;124mSTRING\u001b[39m\u001b[38;5;124m'\u001b[39m), ps_schema)\u001b[38;5;241m.\u001b[39malias(\u001b[38;5;124m\"\u001b[39m\u001b[38;5;124mdata\u001b[39m\u001b[38;5;124m\"\u001b[39m)) \\\n\u001b[1;32m      3\u001b[0m     \u001b[38;5;241m.\u001b[39mselect(\u001b[38;5;124m\"\u001b[39m\u001b[38;5;124mdata.*\u001b[39m\u001b[38;5;124m\"\u001b[39m) \\\n\u001b[0;32m   (...)\u001b[0m\n\u001b[1;32m      6\u001b[0m     \u001b[38;5;241m.\u001b[39mcount() \\\n\u001b[1;32m      7\u001b[0m     \u001b[38;5;241m.\u001b[39morderBy(F\u001b[38;5;241m.\u001b[39mcol(\u001b[38;5;124m\"\u001b[39m\u001b[38;5;124mcount\u001b[39m\u001b[38;5;124m\"\u001b[39m)\u001b[38;5;241m.\u001b[39mdesc())\n\u001b[1;32m     10\u001b[0m query \u001b[38;5;241m=\u001b[39m popular_destinations \\\n\u001b[1;32m     11\u001b[0m     \u001b[38;5;241m.\u001b[39mwriteStream \\\n\u001b[1;32m     12\u001b[0m     \u001b[38;5;241m.\u001b[39moutputMode(\u001b[38;5;124m\"\u001b[39m\u001b[38;5;124mcomplete\u001b[39m\u001b[38;5;124m\"\u001b[39m) \\\n\u001b[1;32m     13\u001b[0m     \u001b[38;5;241m.\u001b[39mformat(\u001b[38;5;124m\"\u001b[39m\u001b[38;5;124mconsole\u001b[39m\u001b[38;5;124m\"\u001b[39m) \\\n\u001b[1;32m     14\u001b[0m     \u001b[38;5;241m.\u001b[39moption(\u001b[38;5;124m\"\u001b[39m\u001b[38;5;124mtruncate\u001b[39m\u001b[38;5;124m\"\u001b[39m, \u001b[38;5;124m\"\u001b[39m\u001b[38;5;124mfalse\u001b[39m\u001b[38;5;124m\"\u001b[39m) \\\n\u001b[1;32m     15\u001b[0m     \u001b[38;5;241m.\u001b[39mstart()\n\u001b[0;32m---> 17\u001b[0m \u001b[43mquery\u001b[49m\u001b[38;5;241;43m.\u001b[39;49m\u001b[43mawaitTermination\u001b[49m\u001b[43m(\u001b[49m\u001b[43m)\u001b[49m\n\u001b[1;32m     18\u001b[0m spark\u001b[38;5;241m.\u001b[39mstop()\n",
      "File \u001b[0;32m~/spark/spark-3.5.1-bin-hadoop3/python/pyspark/sql/streaming/query.py:221\u001b[0m, in \u001b[0;36mStreamingQuery.awaitTermination\u001b[0;34m(self, timeout)\u001b[0m\n\u001b[1;32m    219\u001b[0m     \u001b[38;5;28;01mreturn\u001b[39;00m \u001b[38;5;28mself\u001b[39m\u001b[38;5;241m.\u001b[39m_jsq\u001b[38;5;241m.\u001b[39mawaitTermination(\u001b[38;5;28mint\u001b[39m(timeout \u001b[38;5;241m*\u001b[39m \u001b[38;5;241m1000\u001b[39m))\n\u001b[1;32m    220\u001b[0m \u001b[38;5;28;01melse\u001b[39;00m:\n\u001b[0;32m--> 221\u001b[0m     \u001b[38;5;28;01mreturn\u001b[39;00m \u001b[38;5;28;43mself\u001b[39;49m\u001b[38;5;241;43m.\u001b[39;49m\u001b[43m_jsq\u001b[49m\u001b[38;5;241;43m.\u001b[39;49m\u001b[43mawaitTermination\u001b[49m\u001b[43m(\u001b[49m\u001b[43m)\u001b[49m\n",
      "File \u001b[0;32m~/spark/spark-3.5.1-bin-hadoop3/python/lib/py4j-0.10.9.7-src.zip/py4j/java_gateway.py:1321\u001b[0m, in \u001b[0;36mJavaMember.__call__\u001b[0;34m(self, *args)\u001b[0m\n\u001b[1;32m   1314\u001b[0m args_command, temp_args \u001b[38;5;241m=\u001b[39m \u001b[38;5;28mself\u001b[39m\u001b[38;5;241m.\u001b[39m_build_args(\u001b[38;5;241m*\u001b[39margs)\n\u001b[1;32m   1316\u001b[0m command \u001b[38;5;241m=\u001b[39m proto\u001b[38;5;241m.\u001b[39mCALL_COMMAND_NAME \u001b[38;5;241m+\u001b[39m\\\n\u001b[1;32m   1317\u001b[0m     \u001b[38;5;28mself\u001b[39m\u001b[38;5;241m.\u001b[39mcommand_header \u001b[38;5;241m+\u001b[39m\\\n\u001b[1;32m   1318\u001b[0m     args_command \u001b[38;5;241m+\u001b[39m\\\n\u001b[1;32m   1319\u001b[0m     proto\u001b[38;5;241m.\u001b[39mEND_COMMAND_PART\n\u001b[0;32m-> 1321\u001b[0m answer \u001b[38;5;241m=\u001b[39m \u001b[38;5;28;43mself\u001b[39;49m\u001b[38;5;241;43m.\u001b[39;49m\u001b[43mgateway_client\u001b[49m\u001b[38;5;241;43m.\u001b[39;49m\u001b[43msend_command\u001b[49m\u001b[43m(\u001b[49m\u001b[43mcommand\u001b[49m\u001b[43m)\u001b[49m\n\u001b[1;32m   1322\u001b[0m return_value \u001b[38;5;241m=\u001b[39m get_return_value(\n\u001b[1;32m   1323\u001b[0m     answer, \u001b[38;5;28mself\u001b[39m\u001b[38;5;241m.\u001b[39mgateway_client, \u001b[38;5;28mself\u001b[39m\u001b[38;5;241m.\u001b[39mtarget_id, \u001b[38;5;28mself\u001b[39m\u001b[38;5;241m.\u001b[39mname)\n\u001b[1;32m   1325\u001b[0m \u001b[38;5;28;01mfor\u001b[39;00m temp_arg \u001b[38;5;129;01min\u001b[39;00m temp_args:\n",
      "File \u001b[0;32m~/spark/spark-3.5.1-bin-hadoop3/python/lib/py4j-0.10.9.7-src.zip/py4j/java_gateway.py:1038\u001b[0m, in \u001b[0;36mGatewayClient.send_command\u001b[0;34m(self, command, retry, binary)\u001b[0m\n\u001b[1;32m   1036\u001b[0m connection \u001b[38;5;241m=\u001b[39m \u001b[38;5;28mself\u001b[39m\u001b[38;5;241m.\u001b[39m_get_connection()\n\u001b[1;32m   1037\u001b[0m \u001b[38;5;28;01mtry\u001b[39;00m:\n\u001b[0;32m-> 1038\u001b[0m     response \u001b[38;5;241m=\u001b[39m \u001b[43mconnection\u001b[49m\u001b[38;5;241;43m.\u001b[39;49m\u001b[43msend_command\u001b[49m\u001b[43m(\u001b[49m\u001b[43mcommand\u001b[49m\u001b[43m)\u001b[49m\n\u001b[1;32m   1039\u001b[0m     \u001b[38;5;28;01mif\u001b[39;00m binary:\n\u001b[1;32m   1040\u001b[0m         \u001b[38;5;28;01mreturn\u001b[39;00m response, \u001b[38;5;28mself\u001b[39m\u001b[38;5;241m.\u001b[39m_create_connection_guard(connection)\n",
      "File \u001b[0;32m~/spark/spark-3.5.1-bin-hadoop3/python/lib/py4j-0.10.9.7-src.zip/py4j/clientserver.py:511\u001b[0m, in \u001b[0;36mClientServerConnection.send_command\u001b[0;34m(self, command)\u001b[0m\n\u001b[1;32m    509\u001b[0m \u001b[38;5;28;01mtry\u001b[39;00m:\n\u001b[1;32m    510\u001b[0m     \u001b[38;5;28;01mwhile\u001b[39;00m \u001b[38;5;28;01mTrue\u001b[39;00m:\n\u001b[0;32m--> 511\u001b[0m         answer \u001b[38;5;241m=\u001b[39m smart_decode(\u001b[38;5;28mself\u001b[39m\u001b[38;5;241m.\u001b[39mstream\u001b[38;5;241m.\u001b[39mreadline()[:\u001b[38;5;241m-\u001b[39m\u001b[38;5;241m1\u001b[39m])\n\u001b[1;32m    512\u001b[0m         logger\u001b[38;5;241m.\u001b[39mdebug(\u001b[38;5;124m\"\u001b[39m\u001b[38;5;124mAnswer received: \u001b[39m\u001b[38;5;132;01m{0}\u001b[39;00m\u001b[38;5;124m\"\u001b[39m\u001b[38;5;241m.\u001b[39mformat(answer))\n\u001b[1;32m    513\u001b[0m         \u001b[38;5;66;03m# Happens when a the other end is dead. There might be an empty\u001b[39;00m\n\u001b[1;32m    514\u001b[0m         \u001b[38;5;66;03m# answer before the socket raises an error.\u001b[39;00m\n",
      "File \u001b[0;32m~/micromamba/envs/newzoom/lib/python3.11/socket.py:706\u001b[0m, in \u001b[0;36mSocketIO.readinto\u001b[0;34m(self, b)\u001b[0m\n\u001b[1;32m    704\u001b[0m \u001b[38;5;28;01mwhile\u001b[39;00m \u001b[38;5;28;01mTrue\u001b[39;00m:\n\u001b[1;32m    705\u001b[0m     \u001b[38;5;28;01mtry\u001b[39;00m:\n\u001b[0;32m--> 706\u001b[0m         \u001b[38;5;28;01mreturn\u001b[39;00m \u001b[38;5;28;43mself\u001b[39;49m\u001b[38;5;241;43m.\u001b[39;49m\u001b[43m_sock\u001b[49m\u001b[38;5;241;43m.\u001b[39;49m\u001b[43mrecv_into\u001b[49m\u001b[43m(\u001b[49m\u001b[43mb\u001b[49m\u001b[43m)\u001b[49m\n\u001b[1;32m    707\u001b[0m     \u001b[38;5;28;01mexcept\u001b[39;00m timeout:\n\u001b[1;32m    708\u001b[0m         \u001b[38;5;28mself\u001b[39m\u001b[38;5;241m.\u001b[39m_timeout_occurred \u001b[38;5;241m=\u001b[39m \u001b[38;5;28;01mTrue\u001b[39;00m\n",
      "\u001b[0;31mKeyboardInterrupt\u001b[0m: "
     ]
    }
   ],
   "source": [
    "popular_destinations = green_stream \\\n",
    "    .select(F.from_json(F.col(\"value\").cast('STRING'), ps_schema).alias(\"data\")) \\\n",
    "    .select(\"data.*\") \\\n",
    "    .withColumn(\"timestamp\", F.current_timestamp()) \\\n",
    "    .groupBy(F.window(\"timestamp\", \"5 minutes\"), \"DOLocationID\") \\\n",
    "    .count() \\\n",
    "    .orderBy(F.col(\"count\").desc())\n",
    "\n",
    "\n",
    "query = popular_destinations \\\n",
    "    .writeStream \\\n",
    "    .outputMode(\"complete\") \\\n",
    "    .format(\"console\") \\\n",
    "    .option(\"truncate\", \"false\") \\\n",
    "    .start()\n",
    "\n",
    "query.awaitTermination()\n",
    "spark.stop()"
   ]
  },
  {
   "cell_type": "markdown",
   "metadata": {},
   "source": [
    "### Answer 7: `DOLocationID=74`\n",
    "\n",
    "```bash\n",
    "-------------------------------------------\n",
    "Batch: 0\n",
    "-------------------------------------------\n",
    "+------------------------------------------+------------+-----+\n",
    "|window                                    |DOLocationID|count|\n",
    "+------------------------------------------+------------+-----+\n",
    "|{2024-04-08 23:10:00, 2024-04-08 23:15:00}|74          |48214|\n",
    "|{2024-04-08 23:10:00, 2024-04-08 23:15:00}|42          |43011|\n",
    "|{2024-04-08 23:10:00, 2024-04-08 23:15:00}|41          |38226|\n",
    "|{2024-04-08 23:10:00, 2024-04-08 23:15:00}|75          |34857|\n",
    "|{2024-04-08 23:10:00, 2024-04-08 23:15:00}|129         |32427|\n",
    "|{2024-04-08 23:10:00, 2024-04-08 23:15:00}|7           |31456|\n",
    "|{2024-04-08 23:10:00, 2024-04-08 23:15:00}|166         |29782|\n",
    "|{2024-04-08 23:10:00, 2024-04-08 23:15:00}|236         |21615|\n",
    "|{2024-04-08 23:10:00, 2024-04-08 23:15:00}|223         |20704|\n",
    "|{2024-04-08 23:10:00, 2024-04-08 23:15:00}|238         |19997|\n",
    "|{2024-04-08 23:10:00, 2024-04-08 23:15:00}|82          |19684|\n",
    "|{2024-04-08 23:10:00, 2024-04-08 23:15:00}|181         |19394|\n",
    "|{2024-04-08 23:10:00, 2024-04-08 23:15:00}|95          |19241|\n",
    "|{2024-04-08 23:10:00, 2024-04-08 23:15:00}|244         |18130|\n",
    "|{2024-04-08 23:10:00, 2024-04-08 23:15:00}|116         |17139|\n",
    "|{2024-04-08 23:10:00, 2024-04-08 23:15:00}|138         |17009|\n",
    "|{2024-04-08 23:10:00, 2024-04-08 23:15:00}|61          |16565|\n",
    "|{2024-04-08 23:10:00, 2024-04-08 23:15:00}|97          |15894|\n",
    "|{2024-04-08 23:10:00, 2024-04-08 23:15:00}|151         |14041|\n",
    "|{2024-04-08 23:10:00, 2024-04-08 23:15:00}|49          |13840|\n",
    "+------------------------------------------+------------+-----+\n",
    "only showing top 20 rows\n",
    "```"
   ]
  }
 ],
 "metadata": {
  "kernelspec": {
   "display_name": "Python 3",
   "language": "python",
   "name": "python3"
  },
  "language_info": {
   "codemirror_mode": {
    "name": "ipython",
    "version": 3
   },
   "file_extension": ".py",
   "mimetype": "text/x-python",
   "name": "python",
   "nbconvert_exporter": "python",
   "pygments_lexer": "ipython3",
   "version": "3.11.8"
  }
 },
 "nbformat": 4,
 "nbformat_minor": 2
}
