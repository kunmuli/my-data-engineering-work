{
 "cells": [
  {
   "cell_type": "markdown",
   "metadata": {
    "id": "mrTFv5nPClXh"
   },
   "source": [
    "# **Homework**: Data talks club data engineering zoomcamp Data loading workshop\n",
    "\n",
    "Hello folks, let's practice what we learned - Loading data with the best practices of data engineering.\n",
    "\n",
    "Here are the exercises we will do\n",
    "\n",
    "\n"
   ]
  },
  {
   "cell_type": "markdown",
   "metadata": {
    "id": "wLF4iXf-NR7t"
   },
   "source": [
    "# 1. Use a generator\n",
    "\n",
    "Remember the concept of generator? Let's practice using them to futher our understanding of how they work.\n",
    "\n",
    "Let's define a generator and then run it as practice.\n",
    "\n",
    "**Answer the following questions:**\n",
    "\n",
    "## Question 1: What is the sum of the outputs of the generator for limit = 5?\n",
    "\n",
    "`sum = 8.382332347441762`\n",
    "\n",
    "### Answer 1: `C: 8.382`\n",
    "\n",
    "- **A**: 10.23433234744176\n",
    "- **B**: 7.892332347441762\n",
    "- **C**: 8.382332347441762\n",
    "- **D**: 9.123332347441762"
   ]
  },
  {
   "cell_type": "code",
   "execution_count": 1,
   "metadata": {
    "colab": {
     "base_uri": "https://localhost:8080/"
    },
    "id": "wLng-bDJN4jf",
    "outputId": "547683cb-5f56-4815-a903-d0d9578eb1f9"
   },
   "outputs": [
    {
     "name": "stdout",
     "output_type": "stream",
     "text": [
      "1.0\n",
      "1.4142135623730951\n",
      "1.7320508075688772\n",
      "2.0\n",
      "2.23606797749979\n",
      "2.449489742783178\n",
      "2.6457513110645907\n",
      "2.8284271247461903\n",
      "3.0\n",
      "3.1622776601683795\n",
      "3.3166247903554\n",
      "3.4641016151377544\n",
      "3.605551275463989\n",
      "13th number: 3.605551275463989\n"
     ]
    }
   ],
   "source": [
    "def square_root_generator(limit):\n",
    "    n = 1\n",
    "    while n <= limit:\n",
    "        yield n ** 0.5\n",
    "        n += 1\n",
    "\n",
    "# Example usage:\n",
    "limit = 13 # qn1: 5, qn2: 13\n",
    "generator = square_root_generator(limit)\n",
    "# Track the sum\n",
    "sum = 0\n",
    "# Store the generated values\n",
    "values = []\n",
    "for sqrt_value in generator:\n",
    "    print(sqrt_value)\n",
    "    # sum += sqrt_value\n",
    "    values.append(sqrt_value)\n",
    "\n",
    "# print(f'sum = {sum}')\n",
    "print(f'13th number: {values[-1]}')"
   ]
  },
  {
   "cell_type": "markdown",
   "metadata": {},
   "source": [
    "## Question 2: What is the 13th number yielded\n",
    "\n",
    "`13th item: 3.605551275463989`\n",
    "\n",
    "### Answer 2: `B: 3.6055`\n",
    "\n",
    "- **A**: 4.236551275463989\n",
    "- **B**: 3.605551275463989\n",
    "- **C**: 2.345551275463989\n",
    "- **D**: 5.678551275463989\n",
    "\n",
    "Change limit = 13"
   ]
  },
  {
   "cell_type": "markdown",
   "metadata": {
    "id": "kKB2GTB9oVjr"
   },
   "source": [
    "# Solution: First make sure that the following modules are installed:"
   ]
  },
  {
   "cell_type": "raw",
   "metadata": {
    "id": "xTVvtyqrfVNq"
   },
   "source": [
    "# Install the dependencies\n",
    "pip install dlt[duckdb]"
   ]
  },
  {
   "cell_type": "markdown",
   "metadata": {
    "id": "vjWhILzGJMpK"
   },
   "source": [
    "# 2. Append a generator to a table with existing data\n",
    "\n",
    "\n",
    "Below you have 2 generators. You will be tasked to load them to duckdb and answer some questions from the data\n",
    "\n",
    "1. Load the first generator and calculate the sum of ages of all people. Make sure to only load it once.\n",
    "2. Append the second generator to the same table as the first.\n",
    "3. **After correctly appending the data, calculate the sum of all ages of people.**\n",
    "\n",
    "\n"
   ]
  },
  {
   "cell_type": "code",
   "execution_count": 2,
   "metadata": {
    "colab": {
     "base_uri": "https://localhost:8080/"
    },
    "id": "2MoaQcdLBEk6",
    "outputId": "d2b93dc1-d83f-44ea-aeff-fdf51d75f7aa"
   },
   "outputs": [
    {
     "name": "stdout",
     "output_type": "stream",
     "text": [
      "{'ID': 1, 'Name': 'Person_1', 'Age': 26, 'City': 'City_A'}\n",
      "{'ID': 2, 'Name': 'Person_2', 'Age': 27, 'City': 'City_A'}\n",
      "{'ID': 3, 'Name': 'Person_3', 'Age': 28, 'City': 'City_A'}\n",
      "{'ID': 4, 'Name': 'Person_4', 'Age': 29, 'City': 'City_A'}\n",
      "{'ID': 5, 'Name': 'Person_5', 'Age': 30, 'City': 'City_A'}\n",
      "{'ID': 3, 'Name': 'Person_3', 'Age': 33, 'City': 'City_B', 'Occupation': 'Job_3'}\n",
      "{'ID': 4, 'Name': 'Person_4', 'Age': 34, 'City': 'City_B', 'Occupation': 'Job_4'}\n",
      "{'ID': 5, 'Name': 'Person_5', 'Age': 35, 'City': 'City_B', 'Occupation': 'Job_5'}\n",
      "{'ID': 6, 'Name': 'Person_6', 'Age': 36, 'City': 'City_B', 'Occupation': 'Job_6'}\n",
      "{'ID': 7, 'Name': 'Person_7', 'Age': 37, 'City': 'City_B', 'Occupation': 'Job_7'}\n",
      "{'ID': 8, 'Name': 'Person_8', 'Age': 38, 'City': 'City_B', 'Occupation': 'Job_8'}\n"
     ]
    }
   ],
   "source": [
    "def people_1():\n",
    "    for i in range(1, 6):\n",
    "        yield {\"ID\": i, \"Name\": f\"Person_{i}\", \"Age\": 25 + i, \"City\": \"City_A\"}\n",
    "\n",
    "for person in people_1():\n",
    "    print(person)\n",
    "\n",
    "\n",
    "def people_2():\n",
    "    for i in range(3, 9):\n",
    "        yield {\"ID\": i, \"Name\": f\"Person_{i}\", \"Age\": 30 + i, \"City\": \"City_B\", \"Occupation\": f\"Job_{i}\"}\n",
    "\n",
    "\n",
    "for person in people_2():\n",
    "    print(person)\n"
   ]
  },
  {
   "cell_type": "code",
   "execution_count": 3,
   "metadata": {},
   "outputs": [
    {
     "name": "stdout",
     "output_type": "stream",
     "text": [
      "Pipeline dlt_ipykernel_launcher load step completed in 0.48 seconds\n",
      "1 load package(s) were loaded to destination duckdb and into dataset people\n",
      "The duckdb destination used duckdb:///E:\\Dev\\Data Engineering\\Data Engineering Bootcamp\\Current\\my-data-engineering-work\\workshops\\dlt_resources\\dlt_ipykernel_launcher.duckdb location to store data\n",
      "Load package 1709156412.886887 is LOADED and contains no failed jobs\n",
      "\n",
      "\n",
      "Pipeline dlt_ipykernel_launcher load step completed in 0.45 seconds\n",
      "1 load package(s) were loaded to destination duckdb and into dataset people\n",
      "The duckdb destination used duckdb:///E:\\Dev\\Data Engineering\\Data Engineering Bootcamp\\Current\\my-data-engineering-work\\workshops\\dlt_resources\\dlt_ipykernel_launcher.duckdb location to store data\n",
      "Load package 1709156413.9520924 is LOADED and contains no failed jobs\n",
      "\n",
      "\n"
     ]
    }
   ],
   "source": [
    "import dlt\n",
    "import duckdb\n",
    "\n",
    "# Create a DLT pipeline for the first generator `people_1`\n",
    "# The pipeline is set to load data into a DuckDB database with the dataset named 'people'\n",
    "people_1_pipeline = dlt.pipeline(destination='duckdb', dataset_name='people')\n",
    "\n",
    "\n",
    "# we can load any generator to a table at the pipeline destination as follows:\n",
    "info = people_1_pipeline.run(people_1(),\n",
    "\t\t\t\t\t\t\ttable_name=\"people\",\n",
    "\t\t\t\t\t\t\twrite_disposition=\"replace\")\n",
    "\n",
    "# Print metadata of the loading process for the first generator.\n",
    "print(f\"{info}\\n\\n\")\n",
    "\n",
    "# Create a second DLT pipeline for the generator `people_2`, targeting the same DuckDB database and dataset\n",
    "people_2_pipeline = dlt.pipeline(destination='duckdb', dataset_name='people')\n",
    "\n",
    "# Run the second pipeline, appending data from `people_2` to the existing 'people' table\n",
    "info = people_2_pipeline.run(people_2(),\n",
    "                             table_name=\"people\",\n",
    "                             write_disposition=\"append\")\n",
    "\n",
    "# Print metadata of the loading process for the second generator.\n",
    "print(f\"{info}\\n\\n\")\n"
   ]
  },
  {
   "cell_type": "code",
   "execution_count": 4,
   "metadata": {},
   "outputs": [
    {
     "name": "stdout",
     "output_type": "stream",
     "text": [
      "Loaded tables: \n"
     ]
    },
    {
     "data": {
      "text/plain": [
       "┌─────────────────────┐\n",
       "│        name         │\n",
       "│       varchar       │\n",
       "├─────────────────────┤\n",
       "│ _dlt_loads          │\n",
       "│ _dlt_pipeline_state │\n",
       "│ _dlt_version        │\n",
       "│ people              │\n",
       "└─────────────────────┘"
      ]
     },
     "metadata": {},
     "output_type": "display_data"
    },
    {
     "name": "stdout",
     "output_type": "stream",
     "text": [
      "\n",
      "\n",
      "\n",
      " table below:\n"
     ]
    },
    {
     "data": {
      "text/html": [
       "<div>\n",
       "<style scoped>\n",
       "    .dataframe tbody tr th:only-of-type {\n",
       "        vertical-align: middle;\n",
       "    }\n",
       "\n",
       "    .dataframe tbody tr th {\n",
       "        vertical-align: top;\n",
       "    }\n",
       "\n",
       "    .dataframe thead th {\n",
       "        text-align: right;\n",
       "    }\n",
       "</style>\n",
       "<table border=\"1\" class=\"dataframe\">\n",
       "  <thead>\n",
       "    <tr style=\"text-align: right;\">\n",
       "      <th></th>\n",
       "      <th>id</th>\n",
       "      <th>name</th>\n",
       "      <th>age</th>\n",
       "      <th>city</th>\n",
       "      <th>_dlt_load_id</th>\n",
       "      <th>_dlt_id</th>\n",
       "      <th>occupation</th>\n",
       "    </tr>\n",
       "  </thead>\n",
       "  <tbody>\n",
       "    <tr>\n",
       "      <th>0</th>\n",
       "      <td>1</td>\n",
       "      <td>Person_1</td>\n",
       "      <td>26</td>\n",
       "      <td>City_A</td>\n",
       "      <td>1709156412.886887</td>\n",
       "      <td>24S3bcMJm4a8HQ</td>\n",
       "      <td>None</td>\n",
       "    </tr>\n",
       "    <tr>\n",
       "      <th>1</th>\n",
       "      <td>2</td>\n",
       "      <td>Person_2</td>\n",
       "      <td>27</td>\n",
       "      <td>City_A</td>\n",
       "      <td>1709156412.886887</td>\n",
       "      <td>DQbOVsuPLSTr3w</td>\n",
       "      <td>None</td>\n",
       "    </tr>\n",
       "    <tr>\n",
       "      <th>2</th>\n",
       "      <td>3</td>\n",
       "      <td>Person_3</td>\n",
       "      <td>28</td>\n",
       "      <td>City_A</td>\n",
       "      <td>1709156412.886887</td>\n",
       "      <td>PYmJnRWiIa1R+g</td>\n",
       "      <td>None</td>\n",
       "    </tr>\n",
       "    <tr>\n",
       "      <th>3</th>\n",
       "      <td>4</td>\n",
       "      <td>Person_4</td>\n",
       "      <td>29</td>\n",
       "      <td>City_A</td>\n",
       "      <td>1709156412.886887</td>\n",
       "      <td>JyRez7uZytErog</td>\n",
       "      <td>None</td>\n",
       "    </tr>\n",
       "    <tr>\n",
       "      <th>4</th>\n",
       "      <td>5</td>\n",
       "      <td>Person_5</td>\n",
       "      <td>30</td>\n",
       "      <td>City_A</td>\n",
       "      <td>1709156412.886887</td>\n",
       "      <td>heHbRrFu9N8Axw</td>\n",
       "      <td>None</td>\n",
       "    </tr>\n",
       "    <tr>\n",
       "      <th>5</th>\n",
       "      <td>3</td>\n",
       "      <td>Person_3</td>\n",
       "      <td>33</td>\n",
       "      <td>City_B</td>\n",
       "      <td>1709156413.9520924</td>\n",
       "      <td>FGgs3r42P/OKPQ</td>\n",
       "      <td>Job_3</td>\n",
       "    </tr>\n",
       "    <tr>\n",
       "      <th>6</th>\n",
       "      <td>4</td>\n",
       "      <td>Person_4</td>\n",
       "      <td>34</td>\n",
       "      <td>City_B</td>\n",
       "      <td>1709156413.9520924</td>\n",
       "      <td>FmJO9QL9nigHdA</td>\n",
       "      <td>Job_4</td>\n",
       "    </tr>\n",
       "    <tr>\n",
       "      <th>7</th>\n",
       "      <td>5</td>\n",
       "      <td>Person_5</td>\n",
       "      <td>35</td>\n",
       "      <td>City_B</td>\n",
       "      <td>1709156413.9520924</td>\n",
       "      <td>kXyRIUljdmemzQ</td>\n",
       "      <td>Job_5</td>\n",
       "    </tr>\n",
       "    <tr>\n",
       "      <th>8</th>\n",
       "      <td>6</td>\n",
       "      <td>Person_6</td>\n",
       "      <td>36</td>\n",
       "      <td>City_B</td>\n",
       "      <td>1709156413.9520924</td>\n",
       "      <td>SjeBgdNLuK6zaA</td>\n",
       "      <td>Job_6</td>\n",
       "    </tr>\n",
       "    <tr>\n",
       "      <th>9</th>\n",
       "      <td>7</td>\n",
       "      <td>Person_7</td>\n",
       "      <td>37</td>\n",
       "      <td>City_B</td>\n",
       "      <td>1709156413.9520924</td>\n",
       "      <td>QvmEXcYMHGSj1A</td>\n",
       "      <td>Job_7</td>\n",
       "    </tr>\n",
       "    <tr>\n",
       "      <th>10</th>\n",
       "      <td>8</td>\n",
       "      <td>Person_8</td>\n",
       "      <td>38</td>\n",
       "      <td>City_B</td>\n",
       "      <td>1709156413.9520924</td>\n",
       "      <td>Vowd2D3rUkrpuA</td>\n",
       "      <td>Job_8</td>\n",
       "    </tr>\n",
       "  </tbody>\n",
       "</table>\n",
       "</div>"
      ],
      "text/plain": [
       "    id      name  age    city        _dlt_load_id         _dlt_id occupation\n",
       "0    1  Person_1   26  City_A   1709156412.886887  24S3bcMJm4a8HQ       None\n",
       "1    2  Person_2   27  City_A   1709156412.886887  DQbOVsuPLSTr3w       None\n",
       "2    3  Person_3   28  City_A   1709156412.886887  PYmJnRWiIa1R+g       None\n",
       "3    4  Person_4   29  City_A   1709156412.886887  JyRez7uZytErog       None\n",
       "4    5  Person_5   30  City_A   1709156412.886887  heHbRrFu9N8Axw       None\n",
       "5    3  Person_3   33  City_B  1709156413.9520924  FGgs3r42P/OKPQ      Job_3\n",
       "6    4  Person_4   34  City_B  1709156413.9520924  FmJO9QL9nigHdA      Job_4\n",
       "7    5  Person_5   35  City_B  1709156413.9520924  kXyRIUljdmemzQ      Job_5\n",
       "8    6  Person_6   36  City_B  1709156413.9520924  SjeBgdNLuK6zaA      Job_6\n",
       "9    7  Person_7   37  City_B  1709156413.9520924  QvmEXcYMHGSj1A      Job_7\n",
       "10   8  Person_8   38  City_B  1709156413.9520924  Vowd2D3rUkrpuA      Job_8"
      ]
     },
     "metadata": {},
     "output_type": "display_data"
    },
    {
     "name": "stdout",
     "output_type": "stream",
     "text": [
      "\n",
      "\n",
      "Sum of ages from generators `people_1()` and `people_2()` combined: 353\n"
     ]
    }
   ],
   "source": [
    "# show outcome\n",
    "\n",
    "# Connect to the DuckDB database created by the first generator\n",
    "conn = duckdb.connect(f\"{people_1_pipeline.pipeline_name}.duckdb\")\n",
    "\n",
    "# Setting the search path to the dataset 'people' and displaying available tables\n",
    "conn.sql(f\"SET search_path = '{people_1_pipeline.dataset_name}'\")\n",
    "print('Loaded tables: ')\n",
    "display(conn.sql(\"show tables\"))\n",
    "\n",
    "# and the data\n",
    "\n",
    "print(\"\\n\\n\\n table below:\")\n",
    "\n",
    "# Fetching the appended data from the 'people' table and displaying it\n",
    "people = conn.sql(\"SELECT * FROM people\").df()\n",
    "display(people)\n",
    "\n",
    "# As you can see, the same data was loaded in both cases.\n",
    "\n",
    "# Calculate the sum of ages from the combined data of `people_1` and `people_2` in the 'people' table\n",
    "sum_of_ages_p1_p2 = conn.execute(\"SELECT SUM(age) FROM people\").fetchone()[0]\n",
    "print(f\"\\n\\nSum of ages from generators `people_1()` and `people_2()` combined: {sum_of_ages_p1_p2}\")"
   ]
  },
  {
   "cell_type": "markdown",
   "metadata": {
    "id": "pY4cFAWOSwN1"
   },
   "source": [
    "# 3. Merge a generator\n",
    "\n",
    "Re-use the generators from Exercise 2.\n",
    "\n",
    "A table's primary key needs to be created from the start, so load your data to a new table with primary key ID.\n",
    "\n",
    "Load your first generator first, and then load the second one with merge. Since they have overlapping IDs, some of the records from the first load should be replaced by the ones from the second load.\n",
    "\n",
    "After loading, you should have a total of 8 records, and ID 3 should have age 33.\n",
    "\n",
    "Question: **Calculate the sum of ages of all the people loaded as described above.**\n"
   ]
  },
  {
   "cell_type": "code",
   "execution_count": 5,
   "metadata": {},
   "outputs": [
    {
     "name": "stdout",
     "output_type": "stream",
     "text": [
      "Pipeline dlt_ipykernel_launcher load step completed in 0.26 seconds\n",
      "1 load package(s) were loaded to destination duckdb and into dataset people\n",
      "The duckdb destination used duckdb:///E:\\Dev\\Data Engineering\\Data Engineering Bootcamp\\Current\\my-data-engineering-work\\workshops\\dlt_resources\\dlt_ipykernel_launcher.duckdb location to store data\n",
      "Load package 1709156415.0160508 is LOADED and contains no failed jobs\n",
      "\n",
      "\n",
      "Pipeline dlt_ipykernel_launcher load step completed in 0.42 seconds\n",
      "1 load package(s) were loaded to destination duckdb and into dataset people\n",
      "The duckdb destination used duckdb:///E:\\Dev\\Data Engineering\\Data Engineering Bootcamp\\Current\\my-data-engineering-work\\workshops\\dlt_resources\\dlt_ipykernel_launcher.duckdb location to store data\n",
      "Load package 1709156415.7862613 is LOADED and contains no failed jobs\n",
      "\n",
      "\n",
      "Loaded tables: \n"
     ]
    },
    {
     "data": {
      "text/plain": [
       "┌─────────────────────┐\n",
       "│        name         │\n",
       "│       varchar       │\n",
       "├─────────────────────┤\n",
       "│ _dlt_loads          │\n",
       "│ _dlt_pipeline_state │\n",
       "│ _dlt_version        │\n",
       "│ people              │\n",
       "│ people_merged       │\n",
       "└─────────────────────┘"
      ]
     },
     "metadata": {},
     "output_type": "display_data"
    },
    {
     "name": "stdout",
     "output_type": "stream",
     "text": [
      "\n",
      "\n",
      "\n",
      "Data from the 'people_merged' table:\n"
     ]
    },
    {
     "data": {
      "text/html": [
       "<div>\n",
       "<style scoped>\n",
       "    .dataframe tbody tr th:only-of-type {\n",
       "        vertical-align: middle;\n",
       "    }\n",
       "\n",
       "    .dataframe tbody tr th {\n",
       "        vertical-align: top;\n",
       "    }\n",
       "\n",
       "    .dataframe thead th {\n",
       "        text-align: right;\n",
       "    }\n",
       "</style>\n",
       "<table border=\"1\" class=\"dataframe\">\n",
       "  <thead>\n",
       "    <tr style=\"text-align: right;\">\n",
       "      <th></th>\n",
       "      <th>id</th>\n",
       "      <th>name</th>\n",
       "      <th>age</th>\n",
       "      <th>city</th>\n",
       "      <th>_dlt_load_id</th>\n",
       "      <th>_dlt_id</th>\n",
       "      <th>occupation</th>\n",
       "    </tr>\n",
       "  </thead>\n",
       "  <tbody>\n",
       "    <tr>\n",
       "      <th>0</th>\n",
       "      <td>1</td>\n",
       "      <td>Person_1</td>\n",
       "      <td>26</td>\n",
       "      <td>City_A</td>\n",
       "      <td>1709156415.0160508</td>\n",
       "      <td>J40/sleUE66QDg</td>\n",
       "      <td>None</td>\n",
       "    </tr>\n",
       "    <tr>\n",
       "      <th>1</th>\n",
       "      <td>2</td>\n",
       "      <td>Person_2</td>\n",
       "      <td>27</td>\n",
       "      <td>City_A</td>\n",
       "      <td>1709156415.0160508</td>\n",
       "      <td>u8vUjdW4z0OnZg</td>\n",
       "      <td>None</td>\n",
       "    </tr>\n",
       "    <tr>\n",
       "      <th>2</th>\n",
       "      <td>8</td>\n",
       "      <td>Person_8</td>\n",
       "      <td>38</td>\n",
       "      <td>City_B</td>\n",
       "      <td>1709156415.7862613</td>\n",
       "      <td>0eMcQfadT8ilZg</td>\n",
       "      <td>Job_8</td>\n",
       "    </tr>\n",
       "    <tr>\n",
       "      <th>3</th>\n",
       "      <td>4</td>\n",
       "      <td>Person_4</td>\n",
       "      <td>34</td>\n",
       "      <td>City_B</td>\n",
       "      <td>1709156415.7862613</td>\n",
       "      <td>yrhgrR9ivYT3Mg</td>\n",
       "      <td>Job_4</td>\n",
       "    </tr>\n",
       "    <tr>\n",
       "      <th>4</th>\n",
       "      <td>5</td>\n",
       "      <td>Person_5</td>\n",
       "      <td>35</td>\n",
       "      <td>City_B</td>\n",
       "      <td>1709156415.7862613</td>\n",
       "      <td>XndDSHZORqlkLA</td>\n",
       "      <td>Job_5</td>\n",
       "    </tr>\n",
       "    <tr>\n",
       "      <th>5</th>\n",
       "      <td>3</td>\n",
       "      <td>Person_3</td>\n",
       "      <td>33</td>\n",
       "      <td>City_B</td>\n",
       "      <td>1709156415.7862613</td>\n",
       "      <td>TWFY9iDAFVkl7A</td>\n",
       "      <td>Job_3</td>\n",
       "    </tr>\n",
       "    <tr>\n",
       "      <th>6</th>\n",
       "      <td>6</td>\n",
       "      <td>Person_6</td>\n",
       "      <td>36</td>\n",
       "      <td>City_B</td>\n",
       "      <td>1709156415.7862613</td>\n",
       "      <td>ZKk2xSUj68CrZA</td>\n",
       "      <td>Job_6</td>\n",
       "    </tr>\n",
       "    <tr>\n",
       "      <th>7</th>\n",
       "      <td>7</td>\n",
       "      <td>Person_7</td>\n",
       "      <td>37</td>\n",
       "      <td>City_B</td>\n",
       "      <td>1709156415.7862613</td>\n",
       "      <td>uyRO7wi3/7/CdA</td>\n",
       "      <td>Job_7</td>\n",
       "    </tr>\n",
       "  </tbody>\n",
       "</table>\n",
       "</div>"
      ],
      "text/plain": [
       "   id      name  age    city        _dlt_load_id         _dlt_id occupation\n",
       "0   1  Person_1   26  City_A  1709156415.0160508  J40/sleUE66QDg       None\n",
       "1   2  Person_2   27  City_A  1709156415.0160508  u8vUjdW4z0OnZg       None\n",
       "2   8  Person_8   38  City_B  1709156415.7862613  0eMcQfadT8ilZg      Job_8\n",
       "3   4  Person_4   34  City_B  1709156415.7862613  yrhgrR9ivYT3Mg      Job_4\n",
       "4   5  Person_5   35  City_B  1709156415.7862613  XndDSHZORqlkLA      Job_5\n",
       "5   3  Person_3   33  City_B  1709156415.7862613  TWFY9iDAFVkl7A      Job_3\n",
       "6   6  Person_6   36  City_B  1709156415.7862613  ZKk2xSUj68CrZA      Job_6\n",
       "7   7  Person_7   37  City_B  1709156415.7862613  uyRO7wi3/7/CdA      Job_7"
      ]
     },
     "metadata": {},
     "output_type": "display_data"
    },
    {
     "name": "stdout",
     "output_type": "stream",
     "text": [
      "\n",
      "\n",
      "Sum of ages from generators `people_1()` merged with generator `people_2()` is: 266\n"
     ]
    }
   ],
   "source": [
    "import dlt\n",
    "import duckdb\n",
    "\n",
    "# Create a DLT pipeline for the first generator `people_1`\n",
    "# The pipeline is set to load data into a DuckDB database with the dataset named 'people'\n",
    "people_1_pipeline = dlt.pipeline(destination='duckdb', dataset_name='people')\n",
    "\n",
    "\n",
    "# we can load any generator to a table at the pipeline destination as follows:\n",
    "info = people_1_pipeline.run(people_1(),\n",
    "\t\t\t\t\t\t\ttable_name=\"people_merged\",\n",
    "\t\t\t\t\t\t\twrite_disposition=\"replace\",\n",
    "\t\t\t\t\t\t\tprimary_key=\"ID\")\n",
    "\n",
    "# Print metadata of the loading process for the first generator.\n",
    "print(f\"{info}\\n\\n\")\n",
    "\n",
    "# Create a second DLT pipeline for the generator `people_2`, targeting the same DuckDB database and dataset\n",
    "people_2_pipeline = dlt.pipeline(destination='duckdb', dataset_name='people')\n",
    "\n",
    "# Run the second pipeline, appending data from `people_2` to the existing 'people' table\n",
    "info = people_2_pipeline.run(people_2(),\n",
    "                             table_name=\"people_merged\",\n",
    "                             write_disposition=\"merge\",\n",
    "                             primary_key=\"ID\")\n",
    "\n",
    "# Print metadata of the loading process for the second generator.\n",
    "print(f\"{info}\\n\\n\")\n",
    "\n",
    "# Connect to the DuckDB database created by the first generator\n",
    "conn = duckdb.connect(f\"{people_1_pipeline.pipeline_name}.duckdb\")\n",
    "\n",
    "# Setting the search path to the dataset 'people' and displaying available tables\n",
    "conn.sql(f\"SET search_path = '{people_1_pipeline.dataset_name}'\")\n",
    "print('Loaded tables: ')\n",
    "display(conn.sql(\"show tables\"))\n",
    "\n",
    "# Display the merged data from the 'people_merged' table.\n",
    "print(\"\\n\\n\\nData from the 'people_merged' table:\")\n",
    "people = conn.sql(\"SELECT * FROM people_merged\").df()\n",
    "display(people)\n",
    "\n",
    "# As you can see, the same data was loaded in both cases.\n",
    "\n",
    "# Calculate the sum of ages from the merged data of `people_1` and `people_2` in the 'people_merged' table\n",
    "sum_of_ages_p1_p2 = conn.execute(\"SELECT SUM(age) FROM people_merged\").fetchone()[0]\n",
    "print(f\"\\n\\nSum of ages from generators `people_1()` merged with generator `people_2()` is: {sum_of_ages_p1_p2}\")\n"
   ]
  },
  {
   "cell_type": "markdown",
   "metadata": {},
   "source": [
    "## Question 3: Append the 2 generators. After correctly appending the data, calculate the sum of all ages of people.\n",
    "\n",
    "### Answer 3: `A: 353`\n",
    "\n",
    "- **A**: 353\n",
    "- **B**: 365\n",
    "- **C**: 378\n",
    "- **D**: 390"
   ]
  },
  {
   "cell_type": "markdown",
   "metadata": {},
   "source": [
    "## Question 4: Merge the 2 generators using the ID column. Calculate the sum of ages of all the people loaded as described above.\n",
    "\n",
    "### Answer 4: `B: 266`\n",
    "\n",
    "- **A**: 215\n",
    "- **B**: 266\n",
    "- **C**: 241\n",
    "- **D**: 258"
   ]
  }
 ],
 "metadata": {
  "colab": {
   "provenance": []
  },
  "kernelspec": {
   "display_name": "Python 3 (ipykernel)",
   "language": "python",
   "name": "python3"
  },
  "language_info": {
   "codemirror_mode": {
    "name": "ipython",
    "version": 3
   },
   "file_extension": ".py",
   "mimetype": "text/x-python",
   "name": "python",
   "nbconvert_exporter": "python",
   "pygments_lexer": "ipython3",
   "version": "3.9.18"
  }
 },
 "nbformat": 4,
 "nbformat_minor": 4
}
