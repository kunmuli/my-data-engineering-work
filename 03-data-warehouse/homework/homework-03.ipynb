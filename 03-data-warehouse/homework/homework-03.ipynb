{
 "cells": [
  {
   "cell_type": "markdown",
   "metadata": {},
   "source": [
    "# Week 3 Homework\n",
    "\n",
    "ATTENTION: At the end of the submission form, you will be required to include a link to your GitHub repository or other public code-hosting site. This repository should contain your code for solving the homework. If your solution includes code that is not in file format (such as SQL queries or shell commands), please include these directly in the README file of your repository.\n",
    "\n",
    "<b><u>Important Note:</b></u> <p> For this homework we will be using the 2022 Green Taxi Trip Record Parquet Files from the New York\n",
    "City Taxi Data found here: </br> https://www.nyc.gov/site/tlc/about/tlc-trip-record-data.page </br>\n",
    "If you are using orchestration such as Mage, Airflow or Prefect do not load the data into Big Query using the orchestrator.</br> \n",
    "Stop with loading the files into a bucket. </br></br>\n",
    "<u>NOTE:</u> You will need to use the PARQUET option files when creating an External Table</br>\n",
    "\n",
    "<b>SETUP:</b></br>\n",
    "Create an external table using the Green Taxi Trip Records Data for 2022. </br>\n",
    "Create a table in BQ using the Green Taxi Trip Records for 2022 (do not partition or cluster this table). </br>\n",
    "</p>"
   ]
  },
  {
   "cell_type": "markdown",
   "metadata": {},
   "source": [
    "### Observe URL patterns\n",
    "\n",
    "- https://d37ci6vzurychx.cloudfront.net/trip-data/green_tripdata_2022-01.parquet\n",
    "- https://d37ci6vzurychx.cloudfront.net/trip-data/green_tripdata_2022-02.parquet\n",
    "- https://d37ci6vzurychx.cloudfront.net/trip-data/green_tripdata_2022-11.parquet\n",
    "- https://d37ci6vzurychx.cloudfront.net/trip-data/green_tripdata_2022-12.parquet\n",
    "\n",
    "Same as for homework#2, can reuse. Now need to make that block a \"common utils block\" and pass the \n",
    "- base_URL\n",
    "- colour\n",
    "- year\n",
    "- extension"
   ]
  },
  {
   "cell_type": "markdown",
   "metadata": {},
   "source": [
    "## Question 1: count of records\n",
    "\n",
    "What is count of records for the 2022 Green Taxi Data??\n",
    "\n",
    "### Answer 1: `840,402`\n",
    "\n",
    "- 65,623,481\n",
    "- 840,402\n",
    "- 1,936,423\n",
    "- 253,647"
   ]
  },
  {
   "cell_type": "markdown",
   "metadata": {},
   "source": [
    "### Load Green Taxi Data in Parquet into DataFrame using Mage"
   ]
  },
  {
   "cell_type": "code",
   "execution_count": null,
   "metadata": {},
   "outputs": [],
   "source": [
    "import io\n",
    "import pandas as pd\n",
    "import pyarrow as pa\n",
    "import pyarrow.parquet as pq\n",
    "import requests\n",
    "from io import BytesIO\n",
    "\n",
    "def load_data_from_api(*args, **kwargs):\n",
    "    \"\"\"\n",
    "    Template for loading data from API\n",
    "    \"\"\"\n",
    "    taxi_dtypes = {\n",
    "                'VendorID': pd.Int64Dtype(),\n",
    "                'passenger_count': pd.Int64Dtype(),\n",
    "                'trip_distance': float,\n",
    "                'RatecodeID':pd.Int64Dtype(),\n",
    "                'store_and_fwd_flag':str,\n",
    "                'PULocationID':pd.Int64Dtype(),\n",
    "                'DOLocationID':pd.Int64Dtype(),\n",
    "                'payment_type': pd.Int64Dtype(),\n",
    "                'fare_amount': float,\n",
    "                'extra':float,\n",
    "                'mta_tax':float,\n",
    "                'tip_amount':float,\n",
    "                'tolls_amount':float,\n",
    "                'improvement_surcharge':float,\n",
    "                'total_amount':float,\n",
    "                'congestion_surcharge':float\n",
    "            }\n",
    "\n",
    "    # native date parsing \n",
    "    parse_dates = ['lpep_pickup_datetime', 'lpep_dropoff_datetime']\n",
    "\n",
    "    # setup the vars\n",
    "    months = range(1,13)\n",
    "    year = 2022\n",
    "    colour = 'green'\n",
    "    base_url=\"https://d37ci6vzurychx.cloudfront.net/trip-data\"\n",
    "\n",
    "    # Create empty list to store DataFrames\n",
    "    dataframes = []\n",
    "\n",
    "    # Iterate through months and download data\n",
    "    for month in months:\n",
    "        # print(month)\n",
    "        \n",
    "        filename = f\"{colour}_tripdata_{year}-{month:02d}.parquet\" # .csv.gz / parquet\n",
    "        print(filename)\n",
    "\n",
    "        url = f\"{base_url}/{filename}\"\n",
    "        print(url)\n",
    "        \n",
    "        response = requests.get(url, stream=True)\n",
    "\n",
    "        if response.status_code == 200:\n",
    "            # Read Parquet file from the downloaded content\n",
    "            table = pq.read_table(BytesIO(response.content))\n",
    "             \n",
    "            # Convert Parquet table to DataFrame\n",
    "            df = table.to_pandas()\n",
    "             \n",
    "            # Append DataFrame to the list\n",
    "            dataframes.append(df)\n",
    "            print(f\"Downloaded {filename} successfully!\")\n",
    "        \n",
    "        else:\n",
    "            print(f\"Failed to download {filename}. Status code: {response.status_code}\")\n",
    "\n",
    "    # Concatenate DataFrames\n",
    "    return pd.concat(dataframes, ignore_index=True)"
   ]
  },
  {
   "cell_type": "code",
   "execution_count": null,
   "metadata": {},
   "outputs": [],
   "source": [
    "df.info()"
   ]
  },
  {
   "cell_type": "code",
   "execution_count": null,
   "metadata": {
    "vscode": {
     "languageId": "sql"
    }
   },
   "outputs": [],
   "source": [
    "-- QN 1\n",
    "CREATE OR REPLACE EXTERNAL TABLE `terraform-demo-413613.ny_taxi.external_green_tripdata`\n",
    "OPTIONS (\n",
    "  format = 'PARQUET',\n",
    "  uris = ['gs://magic-zoomcamp-ernest-muli/nyc_green_taxi_data.parquet']\n",
    ");"
   ]
  },
  {
   "cell_type": "code",
   "execution_count": null,
   "metadata": {
    "vscode": {
     "languageId": "sql"
    }
   },
   "outputs": [],
   "source": [
    "-- QN 1 Create a non partitioned table from external table\n",
    "CREATE OR REPLACE TABLE `terraform-demo-413613.ny_taxi.green_trips_2022_non_partitioned` AS\n",
    "SELECT * \n",
    "FROM `terraform-demo-413613.ny_taxi.external_green_tripdata`"
   ]
  },
  {
   "cell_type": "code",
   "execution_count": null,
   "metadata": {
    "vscode": {
     "languageId": "sql"
    }
   },
   "outputs": [],
   "source": [
    "-- confirm row count is same from mage\n",
    "SELECT COUNT(*) FROM `terraform-demo-413613.ny_taxi.external_green_tripdata`;"
   ]
  },
  {
   "cell_type": "code",
   "execution_count": null,
   "metadata": {
    "vscode": {
     "languageId": "sql"
    }
   },
   "outputs": [],
   "source": [
    "-- confirm row count is same external table\n",
    "SELECT COUNT(*) FROM `terraform-demo-413613.ny_taxi.green_trips_2022_non_partitioned`;"
   ]
  },
  {
   "cell_type": "markdown",
   "metadata": {},
   "source": [
    "## Question 2: estimated data amount\n",
    "\n",
    "### Answer 2: `0 MB for the External Table and 6.41MB for the Materialized Table`\n",
    "\n",
    "Write a query to count the distinct number of PULocationIDs for the entire dataset on both the tables.</br> \n",
    "What is the estimated amount of data that will be read when this query is executed on the External Table and the Table?\n",
    "\n",
    "- 0 MB for the External Table and 6.41MB for the Materialized Table\n",
    "- 18.82 MB for the External Table and 47.60 MB for the Materialized Table\n",
    "- 0 MB for the External Table and 0MB for the Materialized Table\n",
    "- 2.14 MB for the External Table and 0MB for the Materialized Table"
   ]
  },
  {
   "cell_type": "code",
   "execution_count": null,
   "metadata": {
    "vscode": {
     "languageId": "sql"
    }
   },
   "outputs": [],
   "source": [
    "-- qn 2, turn off cache results in query settings, select and view estimate\n",
    "SELECT DISTINCT(PULocationID) \n",
    "FROM `terraform-demo-413613.ny_taxi.external_green_tripdata`;\n",
    "-- shows 0B estimated, 6.41MB processed, 10MB billed\n",
    "\n",
    "SELECT DISTINCT(PULocationID) \n",
    "FROM `terraform-demo-413613.ny_taxi.green_trips_2022_non_partitioned`;\n",
    "-- shows 6.41MB estimated, 6.41MB processed, 10MB billed"
   ]
  },
  {
   "cell_type": "markdown",
   "metadata": {},
   "source": [
    "## Question 3:\n",
    "### Answer 3: `1,622`\n",
    "How many records have a fare_amount of 0?\n",
    "- 12,488\n",
    "- 128,219\n",
    "- 112\n",
    "- 1,622"
   ]
  },
  {
   "cell_type": "code",
   "execution_count": null,
   "metadata": {
    "vscode": {
     "languageId": "sql"
    }
   },
   "outputs": [],
   "source": [
    "-- QN 3 row count for trips with 0 fare_amount\n",
    "SELECT COUNT(*)\n",
    "FROM `terraform-demo-413613.ny_taxi.green_trips_2022_non_partitioned`\n",
    "WHERE fare_amount=0;"
   ]
  },
  {
   "cell_type": "markdown",
   "metadata": {},
   "source": [
    "## Question 4:\n",
    "### Answer 4: `Partition by lpep_pickup_datetime  Cluster on PUlocationID`\n",
    "\n",
    "What is the best strategy to make an optimized table in Big Query if your query will always order the results by PUlocationID and filter based on lpep_pickup_datetime? (Create a new table with this strategy)\n",
    "\n",
    "- Cluster on lpep_pickup_datetime Partition by PUlocationID\n",
    "- Partition by lpep_pickup_datetime  Cluster on PUlocationID\n",
    "- Partition by lpep_pickup_datetime and Partition by PUlocationID\n",
    "- Cluster on by lpep_pickup_datetime and Cluster on PUlocationID"
   ]
  },
  {
   "cell_type": "code",
   "execution_count": null,
   "metadata": {
    "vscode": {
     "languageId": "sql"
    }
   },
   "outputs": [],
   "source": [
    "-- QN 4 create table with the strategy:\n",
    "-- Partition by lpep_pickup_datetime  Cluster on PUlocationID\n",
    "CREATE OR REPLACE TABLE `terraform-demo-413613.ny_taxi.green_trips_2022_optimized`\n",
    "PARTITION BY DATE(lpep_pickup_dt)\n",
    "CLUSTER BY PUlocationID AS\n",
    "SELECT *, \n",
    "  TIMESTAMP_MICROS(CAST(lpep_pickup_datetime / 1000 AS INT64)) AS lpep_pickup_dt, \n",
    "  TIMESTAMP_MICROS(CAST(lpep_dropoff_datetime / 1000 AS INT64)) AS lpep_dropoff_dt \n",
    "FROM `terraform-demo-413613.ny_taxi.green_trips_2022_non_partitioned`;"
   ]
  },
  {
   "cell_type": "markdown",
   "metadata": {},
   "source": [
    "## Question 5:\n",
    "### Answer 5: `12.82 MB for non-partitioned table and 1.12 MB for the partitioned table`\n",
    "\n",
    "Write a query to retrieve the distinct PULocationID between lpep_pickup_datetime\n",
    "06/01/2022 and 06/30/2022 (inclusive)</br>\n",
    "\n",
    "Use the materialized table you created earlier in your from clause and note the estimated bytes. Now change the table in the from clause to the partitioned table you created for question 4 and note the estimated bytes processed. What are these values? </br>\n",
    "\n",
    "Choose the answer which most closely matches.</br> \n",
    "\n",
    "- 22.82 MB for non-partitioned table and 647.87 MB for the partitioned table\n",
    "- 12.82 MB for non-partitioned table and 1.12 MB for the partitioned table\n",
    "- 5.63 MB for non-partitioned table and 0 MB for the partitioned table\n",
    "- 10.31 MB for non-partitioned table and 10.31 MB for the partitioned table"
   ]
  },
  {
   "cell_type": "code",
   "execution_count": null,
   "metadata": {
    "vscode": {
     "languageId": "sql"
    }
   },
   "outputs": [],
   "source": [
    "SELECT UNIX_MICROS(TIMESTAMP \"2022-06-01 00:00:00-05\") AS start_date;\n",
    "SELECT UNIX_MICROS(TIMESTAMP \"2022-07-01 00:00:00-05\")  AS end_date;\n",
    "\n",
    "SELECT \n",
    "  DISTINCT(PULocationID)\n",
    "FROM \n",
    "  `terraform-demo-413613.ny_taxi.green_trips_2022_non_partitioned`\n",
    "WHERE \n",
    "  lpep_pickup_datetime >= 1654059600000000\n",
    "  and \n",
    "  lpep_pickup_datetime <= 1656651600000000\n",
    "  ;"
   ]
  },
  {
   "cell_type": "code",
   "execution_count": null,
   "metadata": {
    "vscode": {
     "languageId": "sql"
    }
   },
   "outputs": [],
   "source": [
    "SELECT \n",
    "  DISTINCT(PULocationID)\n",
    "FROM `terraform-demo-413613.ny_taxi.green_trips_2022_optimized`\n",
    "WHERE \n",
    "  lpep_pickup_dt >= TIMESTAMP(\"2022-06-01 00:00:00\", \"America/New_York\") and \n",
    "  lpep_pickup_dt <= TIMESTAMP(\"2022-07-01 00:00:00\", \"America/New_York\")\n",
    ";"
   ]
  },
  {
   "cell_type": "markdown",
   "metadata": {},
   "source": [
    "## Question 6: \n",
    "### Answer 6: `GCP Bucket`\n",
    "\n",
    "Where is the data stored in the External Table you created?\n",
    "\n",
    "- Big Query\n",
    "- GCP Bucket\n",
    "- Big Table\n",
    "- Container Registry"
   ]
  },
  {
   "cell_type": "markdown",
   "metadata": {},
   "source": [
    "## Question 7:\n",
    "### Answer 7: `False`\n",
    "\n",
    "It is best practice in Big Query to always cluster your data:\n",
    "- True\n",
    "- False"
   ]
  },
  {
   "cell_type": "markdown",
   "metadata": {},
   "source": [
    "## (Bonus: Not worth points) Question 8:\n",
    "\n",
    "No Points: Write a `SELECT count(*)` query FROM the materialized table you created. How many bytes does it estimate will be read? Why?"
   ]
  },
  {
   "cell_type": "markdown",
   "metadata": {},
   "source": [
    "- BigQuery already has the answer so no extra processing is required\n",
    "- the estimate may be due to caching?"
   ]
  }
 ],
 "metadata": {
  "kernelspec": {
   "display_name": "Python 3 (ipykernel)",
   "language": "python",
   "name": "python3"
  },
  "language_info": {
   "codemirror_mode": {
    "name": "ipython",
    "version": 3
   },
   "file_extension": ".py",
   "mimetype": "text/x-python",
   "name": "python",
   "nbconvert_exporter": "python",
   "pygments_lexer": "ipython3",
   "version": "3.9.18"
  }
 },
 "nbformat": 4,
 "nbformat_minor": 4
}
